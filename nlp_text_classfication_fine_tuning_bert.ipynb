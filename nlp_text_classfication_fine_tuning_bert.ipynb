{
  "cells": [
    {
      "cell_type": "markdown",
      "metadata": {
        "id": "j3CbOywpU5ck"
      },
      "source": [
        "# Text Classification with Fine Tuning Bert"
      ]
    },
    {
      "cell_type": "markdown",
      "metadata": {
        "id": "OHcM-0RterS4"
      },
      "source": [
        "## **Cek resource & Install**"
      ]
    },
    {
      "cell_type": "code",
      "execution_count": null,
      "metadata": {},
      "outputs": [],
      "source": [
        "!pip install -r requirements.txt"
      ]
    },
    {
      "cell_type": "code",
      "execution_count": 1,
      "metadata": {
        "colab": {
          "base_uri": "https://localhost:8080/"
        },
        "id": "G2ir5JFA-htd",
        "outputId": "1554e156-27f2-4c2e-9d3e-e270734dba3f"
      },
      "outputs": [
        {
          "name": "stdout",
          "output_type": "stream",
          "text": [
            "there are 1 GPU(s) available.\n",
            "we will use the GPU:  Tesla T4\n"
          ]
        }
      ],
      "source": [
        "import torch\n",
        "\n",
        "if torch.cuda.is_available():\n",
        "  device = torch.device('cuda')\n",
        "\n",
        "  print('there are %d GPU(s) available.' % torch.cuda.device_count())\n",
        "\n",
        "  print('we will use the GPU: ', torch.cuda.get_device_name(0))\n",
        "\n",
        "else:\n",
        "  print(\"No GPU available, using the CPU instead\")\n",
        "  device = torch.device(\"cpu\")"
      ]
    },
    {
      "cell_type": "markdown",
      "metadata": {
        "id": "3fU3axooe-T5"
      },
      "source": [
        "## **Load Dataset**"
      ]
    },
    {
      "cell_type": "code",
      "execution_count": 5,
      "metadata": {
        "colab": {
          "base_uri": "https://localhost:8080/"
        },
        "id": "_h3TeNKSAZnE",
        "outputId": "18618aad-24f2-4119-f29f-bf9bcf60a48c"
      },
      "outputs": [
        {
          "data": {
            "text/plain": [
              "(21601, 3)"
            ]
          },
          "execution_count": 5,
          "metadata": {},
          "output_type": "execute_result"
        }
      ],
      "source": [
        "import pandas as pd\n",
        "\n",
        "# Load dataset\n",
        "df_dev = pd.read_csv('data/dev.csv')\n",
        "df_test = pd.read_csv('data/test.csv')\n",
        "df_train = pd.read_csv('data/train.csv')\n",
        "\n",
        "df_train.shape"
      ]
    },
    {
      "cell_type": "code",
      "execution_count": 6,
      "metadata": {
        "colab": {
          "base_uri": "https://localhost:8080/",
          "height": 206
        },
        "id": "0lDo0_u8UXCk",
        "outputId": "fbcc8545-3b49-4e5a-8914-fdeea4aa888a"
      },
      "outputs": [
        {
          "data": {
            "text/html": [
              "\n",
              "  <div id=\"df-2844f5af-8965-494f-ad0a-728f4fed3525\">\n",
              "    <div class=\"colab-df-container\">\n",
              "      <div>\n",
              "<style scoped>\n",
              "    .dataframe tbody tr th:only-of-type {\n",
              "        vertical-align: middle;\n",
              "    }\n",
              "\n",
              "    .dataframe tbody tr th {\n",
              "        vertical-align: top;\n",
              "    }\n",
              "\n",
              "    .dataframe thead th {\n",
              "        text-align: right;\n",
              "    }\n",
              "</style>\n",
              "<table border=\"1\" class=\"dataframe\">\n",
              "  <thead>\n",
              "    <tr style=\"text-align: right;\">\n",
              "      <th></th>\n",
              "      <th>Unnamed: 0</th>\n",
              "      <th>text_a</th>\n",
              "      <th>label</th>\n",
              "    </tr>\n",
              "  </thead>\n",
              "  <tbody>\n",
              "    <tr>\n",
              "      <th>13276</th>\n",
              "      <td>13276</td>\n",
              "      <td>short little clip for da memes like and follow...</td>\n",
              "      <td>no</td>\n",
              "    </tr>\n",
              "    <tr>\n",
              "      <th>11145</th>\n",
              "      <td>11145</td>\n",
              "      <td>emg main twitter wajib jbjb mutual ya yahh gw ...</td>\n",
              "      <td>no</td>\n",
              "    </tr>\n",
              "    <tr>\n",
              "      <th>19109</th>\n",
              "      <td>19109</td>\n",
              "      <td>penyampaian menkes terkesan santai headline me...</td>\n",
              "      <td>no</td>\n",
              "    </tr>\n",
              "    <tr>\n",
              "      <th>5945</th>\n",
              "      <td>5945</td>\n",
              "      <td>teknologi berkomunikasi memaksimalkan physical...</td>\n",
              "      <td>yes</td>\n",
              "    </tr>\n",
              "    <tr>\n",
              "      <th>9638</th>\n",
              "      <td>9638</td>\n",
              "      <td>dennysiregar7 kpai official ya gini sih susah ...</td>\n",
              "      <td>yes</td>\n",
              "    </tr>\n",
              "  </tbody>\n",
              "</table>\n",
              "</div>\n",
              "      <button class=\"colab-df-convert\" onclick=\"convertToInteractive('df-2844f5af-8965-494f-ad0a-728f4fed3525')\"\n",
              "              title=\"Convert this dataframe to an interactive table.\"\n",
              "              style=\"display:none;\">\n",
              "        \n",
              "  <svg xmlns=\"http://www.w3.org/2000/svg\" height=\"24px\"viewBox=\"0 0 24 24\"\n",
              "       width=\"24px\">\n",
              "    <path d=\"M0 0h24v24H0V0z\" fill=\"none\"/>\n",
              "    <path d=\"M18.56 5.44l.94 2.06.94-2.06 2.06-.94-2.06-.94-.94-2.06-.94 2.06-2.06.94zm-11 1L8.5 8.5l.94-2.06 2.06-.94-2.06-.94L8.5 2.5l-.94 2.06-2.06.94zm10 10l.94 2.06.94-2.06 2.06-.94-2.06-.94-.94-2.06-.94 2.06-2.06.94z\"/><path d=\"M17.41 7.96l-1.37-1.37c-.4-.4-.92-.59-1.43-.59-.52 0-1.04.2-1.43.59L10.3 9.45l-7.72 7.72c-.78.78-.78 2.05 0 2.83L4 21.41c.39.39.9.59 1.41.59.51 0 1.02-.2 1.41-.59l7.78-7.78 2.81-2.81c.8-.78.8-2.07 0-2.86zM5.41 20L4 18.59l7.72-7.72 1.47 1.35L5.41 20z\"/>\n",
              "  </svg>\n",
              "      </button>\n",
              "      \n",
              "  <style>\n",
              "    .colab-df-container {\n",
              "      display:flex;\n",
              "      flex-wrap:wrap;\n",
              "      gap: 12px;\n",
              "    }\n",
              "\n",
              "    .colab-df-convert {\n",
              "      background-color: #E8F0FE;\n",
              "      border: none;\n",
              "      border-radius: 50%;\n",
              "      cursor: pointer;\n",
              "      display: none;\n",
              "      fill: #1967D2;\n",
              "      height: 32px;\n",
              "      padding: 0 0 0 0;\n",
              "      width: 32px;\n",
              "    }\n",
              "\n",
              "    .colab-df-convert:hover {\n",
              "      background-color: #E2EBFA;\n",
              "      box-shadow: 0px 1px 2px rgba(60, 64, 67, 0.3), 0px 1px 3px 1px rgba(60, 64, 67, 0.15);\n",
              "      fill: #174EA6;\n",
              "    }\n",
              "\n",
              "    [theme=dark] .colab-df-convert {\n",
              "      background-color: #3B4455;\n",
              "      fill: #D2E3FC;\n",
              "    }\n",
              "\n",
              "    [theme=dark] .colab-df-convert:hover {\n",
              "      background-color: #434B5C;\n",
              "      box-shadow: 0px 1px 3px 1px rgba(0, 0, 0, 0.15);\n",
              "      filter: drop-shadow(0px 1px 2px rgba(0, 0, 0, 0.3));\n",
              "      fill: #FFFFFF;\n",
              "    }\n",
              "  </style>\n",
              "\n",
              "      <script>\n",
              "        const buttonEl =\n",
              "          document.querySelector('#df-2844f5af-8965-494f-ad0a-728f4fed3525 button.colab-df-convert');\n",
              "        buttonEl.style.display =\n",
              "          google.colab.kernel.accessAllowed ? 'block' : 'none';\n",
              "\n",
              "        async function convertToInteractive(key) {\n",
              "          const element = document.querySelector('#df-2844f5af-8965-494f-ad0a-728f4fed3525');\n",
              "          const dataTable =\n",
              "            await google.colab.kernel.invokeFunction('convertToInteractive',\n",
              "                                                     [key], {});\n",
              "          if (!dataTable) return;\n",
              "\n",
              "          const docLinkHtml = 'Like what you see? Visit the ' +\n",
              "            '<a target=\"_blank\" href=https://colab.research.google.com/notebooks/data_table.ipynb>data table notebook</a>'\n",
              "            + ' to learn more about interactive tables.';\n",
              "          element.innerHTML = '';\n",
              "          dataTable['output_type'] = 'display_data';\n",
              "          await google.colab.output.renderOutput(dataTable, element);\n",
              "          const docLink = document.createElement('div');\n",
              "          docLink.innerHTML = docLinkHtml;\n",
              "          element.appendChild(docLink);\n",
              "        }\n",
              "      </script>\n",
              "    </div>\n",
              "  </div>\n",
              "  "
            ],
            "text/plain": [
              "       Unnamed: 0                                             text_a label\n",
              "13276       13276  short little clip for da memes like and follow...    no\n",
              "11145       11145  emg main twitter wajib jbjb mutual ya yahh gw ...    no\n",
              "19109       19109  penyampaian menkes terkesan santai headline me...    no\n",
              "5945         5945  teknologi berkomunikasi memaksimalkan physical...   yes\n",
              "9638         9638  dennysiregar7 kpai official ya gini sih susah ...   yes"
            ]
          },
          "execution_count": 6,
          "metadata": {},
          "output_type": "execute_result"
        }
      ],
      "source": [
        "df_train.sample(5)"
      ]
    },
    {
      "cell_type": "markdown",
      "metadata": {
        "id": "ffHeSZGbUscX"
      },
      "source": [
        "## **Label Encoder**"
      ]
    },
    {
      "cell_type": "code",
      "execution_count": 7,
      "metadata": {
        "colab": {
          "base_uri": "https://localhost:8080/",
          "height": 206
        },
        "id": "_JieqwfKU6is",
        "outputId": "7da5cd6a-323c-4b08-9be0-c02fb3701bb1"
      },
      "outputs": [
        {
          "data": {
            "text/html": [
              "\n",
              "  <div id=\"df-1518b1ca-72d2-4d22-9f4d-8ca0f08380de\">\n",
              "    <div class=\"colab-df-container\">\n",
              "      <div>\n",
              "<style scoped>\n",
              "    .dataframe tbody tr th:only-of-type {\n",
              "        vertical-align: middle;\n",
              "    }\n",
              "\n",
              "    .dataframe tbody tr th {\n",
              "        vertical-align: top;\n",
              "    }\n",
              "\n",
              "    .dataframe thead th {\n",
              "        text-align: right;\n",
              "    }\n",
              "</style>\n",
              "<table border=\"1\" class=\"dataframe\">\n",
              "  <thead>\n",
              "    <tr style=\"text-align: right;\">\n",
              "      <th></th>\n",
              "      <th>Unnamed: 0</th>\n",
              "      <th>text_a</th>\n",
              "      <th>label</th>\n",
              "      <th>worth</th>\n",
              "    </tr>\n",
              "  </thead>\n",
              "  <tbody>\n",
              "    <tr>\n",
              "      <th>17270</th>\n",
              "      <td>17270</td>\n",
              "      <td>rekrutmen cpns pppk ditiadakan</td>\n",
              "      <td>yes</td>\n",
              "      <td>1</td>\n",
              "    </tr>\n",
              "    <tr>\n",
              "      <th>14599</th>\n",
              "      <td>14599</td>\n",
              "      <td>silaturahmi fitri physical distancing https t ...</td>\n",
              "      <td>no</td>\n",
              "      <td>0</td>\n",
              "    </tr>\n",
              "    <tr>\n",
              "      <th>7992</th>\n",
              "      <td>7992</td>\n",
              "      <td>putraerlangga trirismaharini lho ssuai kpasita...</td>\n",
              "      <td>no</td>\n",
              "      <td>0</td>\n",
              "    </tr>\n",
              "    <tr>\n",
              "      <th>20323</th>\n",
              "      <td>20323</td>\n",
              "      <td>ghost konslet kasih tau menhub beliau kena corona</td>\n",
              "      <td>yes</td>\n",
              "      <td>1</td>\n",
              "    </tr>\n",
              "    <tr>\n",
              "      <th>11631</th>\n",
              "      <td>11631</td>\n",
              "      <td>asknonym iya bener virus disekitar cuman karna...</td>\n",
              "      <td>no</td>\n",
              "      <td>0</td>\n",
              "    </tr>\n",
              "  </tbody>\n",
              "</table>\n",
              "</div>\n",
              "      <button class=\"colab-df-convert\" onclick=\"convertToInteractive('df-1518b1ca-72d2-4d22-9f4d-8ca0f08380de')\"\n",
              "              title=\"Convert this dataframe to an interactive table.\"\n",
              "              style=\"display:none;\">\n",
              "        \n",
              "  <svg xmlns=\"http://www.w3.org/2000/svg\" height=\"24px\"viewBox=\"0 0 24 24\"\n",
              "       width=\"24px\">\n",
              "    <path d=\"M0 0h24v24H0V0z\" fill=\"none\"/>\n",
              "    <path d=\"M18.56 5.44l.94 2.06.94-2.06 2.06-.94-2.06-.94-.94-2.06-.94 2.06-2.06.94zm-11 1L8.5 8.5l.94-2.06 2.06-.94-2.06-.94L8.5 2.5l-.94 2.06-2.06.94zm10 10l.94 2.06.94-2.06 2.06-.94-2.06-.94-.94-2.06-.94 2.06-2.06.94z\"/><path d=\"M17.41 7.96l-1.37-1.37c-.4-.4-.92-.59-1.43-.59-.52 0-1.04.2-1.43.59L10.3 9.45l-7.72 7.72c-.78.78-.78 2.05 0 2.83L4 21.41c.39.39.9.59 1.41.59.51 0 1.02-.2 1.41-.59l7.78-7.78 2.81-2.81c.8-.78.8-2.07 0-2.86zM5.41 20L4 18.59l7.72-7.72 1.47 1.35L5.41 20z\"/>\n",
              "  </svg>\n",
              "      </button>\n",
              "      \n",
              "  <style>\n",
              "    .colab-df-container {\n",
              "      display:flex;\n",
              "      flex-wrap:wrap;\n",
              "      gap: 12px;\n",
              "    }\n",
              "\n",
              "    .colab-df-convert {\n",
              "      background-color: #E8F0FE;\n",
              "      border: none;\n",
              "      border-radius: 50%;\n",
              "      cursor: pointer;\n",
              "      display: none;\n",
              "      fill: #1967D2;\n",
              "      height: 32px;\n",
              "      padding: 0 0 0 0;\n",
              "      width: 32px;\n",
              "    }\n",
              "\n",
              "    .colab-df-convert:hover {\n",
              "      background-color: #E2EBFA;\n",
              "      box-shadow: 0px 1px 2px rgba(60, 64, 67, 0.3), 0px 1px 3px 1px rgba(60, 64, 67, 0.15);\n",
              "      fill: #174EA6;\n",
              "    }\n",
              "\n",
              "    [theme=dark] .colab-df-convert {\n",
              "      background-color: #3B4455;\n",
              "      fill: #D2E3FC;\n",
              "    }\n",
              "\n",
              "    [theme=dark] .colab-df-convert:hover {\n",
              "      background-color: #434B5C;\n",
              "      box-shadow: 0px 1px 3px 1px rgba(0, 0, 0, 0.15);\n",
              "      filter: drop-shadow(0px 1px 2px rgba(0, 0, 0, 0.3));\n",
              "      fill: #FFFFFF;\n",
              "    }\n",
              "  </style>\n",
              "\n",
              "      <script>\n",
              "        const buttonEl =\n",
              "          document.querySelector('#df-1518b1ca-72d2-4d22-9f4d-8ca0f08380de button.colab-df-convert');\n",
              "        buttonEl.style.display =\n",
              "          google.colab.kernel.accessAllowed ? 'block' : 'none';\n",
              "\n",
              "        async function convertToInteractive(key) {\n",
              "          const element = document.querySelector('#df-1518b1ca-72d2-4d22-9f4d-8ca0f08380de');\n",
              "          const dataTable =\n",
              "            await google.colab.kernel.invokeFunction('convertToInteractive',\n",
              "                                                     [key], {});\n",
              "          if (!dataTable) return;\n",
              "\n",
              "          const docLinkHtml = 'Like what you see? Visit the ' +\n",
              "            '<a target=\"_blank\" href=https://colab.research.google.com/notebooks/data_table.ipynb>data table notebook</a>'\n",
              "            + ' to learn more about interactive tables.';\n",
              "          element.innerHTML = '';\n",
              "          dataTable['output_type'] = 'display_data';\n",
              "          await google.colab.output.renderOutput(dataTable, element);\n",
              "          const docLink = document.createElement('div');\n",
              "          docLink.innerHTML = docLinkHtml;\n",
              "          element.appendChild(docLink);\n",
              "        }\n",
              "      </script>\n",
              "    </div>\n",
              "  </div>\n",
              "  "
            ],
            "text/plain": [
              "       Unnamed: 0                                             text_a label  \\\n",
              "17270       17270                     rekrutmen cpns pppk ditiadakan   yes   \n",
              "14599       14599  silaturahmi fitri physical distancing https t ...    no   \n",
              "7992         7992  putraerlangga trirismaharini lho ssuai kpasita...    no   \n",
              "20323       20323  ghost konslet kasih tau menhub beliau kena corona   yes   \n",
              "11631       11631  asknonym iya bener virus disekitar cuman karna...    no   \n",
              "\n",
              "       worth  \n",
              "17270      1  \n",
              "14599      0  \n",
              "7992       0  \n",
              "20323      1  \n",
              "11631      0  "
            ]
          },
          "execution_count": 7,
          "metadata": {},
          "output_type": "execute_result"
        }
      ],
      "source": [
        "df_train['worth'] = df_train['label'].apply(lambda x : 1 if x=='yes' else 0)\n",
        "df_train.sample(5)"
      ]
    },
    {
      "cell_type": "code",
      "execution_count": 8,
      "metadata": {
        "colab": {
          "base_uri": "https://localhost:8080/",
          "height": 206
        },
        "id": "Yu5TdwiEUqmT",
        "outputId": "fdd4ef3c-45db-43c3-cb69-352d0e0f29e7"
      },
      "outputs": [
        {
          "data": {
            "text/html": [
              "\n",
              "  <div id=\"df-bea1922f-0c50-40db-8e3c-fb31cac0d9a7\">\n",
              "    <div class=\"colab-df-container\">\n",
              "      <div>\n",
              "<style scoped>\n",
              "    .dataframe tbody tr th:only-of-type {\n",
              "        vertical-align: middle;\n",
              "    }\n",
              "\n",
              "    .dataframe tbody tr th {\n",
              "        vertical-align: top;\n",
              "    }\n",
              "\n",
              "    .dataframe thead th {\n",
              "        text-align: right;\n",
              "    }\n",
              "</style>\n",
              "<table border=\"1\" class=\"dataframe\">\n",
              "  <thead>\n",
              "    <tr style=\"text-align: right;\">\n",
              "      <th></th>\n",
              "      <th>text_a</th>\n",
              "      <th>label</th>\n",
              "      <th>worth</th>\n",
              "    </tr>\n",
              "  </thead>\n",
              "  <tbody>\n",
              "    <tr>\n",
              "      <th>220</th>\n",
              "      <td>hoaks pasien korona di indonesia</td>\n",
              "      <td>yes</td>\n",
              "      <td>1</td>\n",
              "    </tr>\n",
              "    <tr>\n",
              "      <th>2363</th>\n",
              "      <td>kemaren kerja deket tv client denger menkes ng...</td>\n",
              "      <td>no</td>\n",
              "      <td>0</td>\n",
              "    </tr>\n",
              "    <tr>\n",
              "      <th>196</th>\n",
              "      <td>kapansi covid 19 berhenti menyebar menghilang ...</td>\n",
              "      <td>no</td>\n",
              "      <td>0</td>\n",
              "    </tr>\n",
              "    <tr>\n",
              "      <th>1449</th>\n",
              "      <td>gadai cepat wa 0812 1800 9839 gadai rumah sert...</td>\n",
              "      <td>no</td>\n",
              "      <td>0</td>\n",
              "    </tr>\n",
              "    <tr>\n",
              "      <th>656</th>\n",
              "      <td>e100ss spt nya menkes sesuai panduan who https...</td>\n",
              "      <td>no</td>\n",
              "      <td>0</td>\n",
              "    </tr>\n",
              "  </tbody>\n",
              "</table>\n",
              "</div>\n",
              "      <button class=\"colab-df-convert\" onclick=\"convertToInteractive('df-bea1922f-0c50-40db-8e3c-fb31cac0d9a7')\"\n",
              "              title=\"Convert this dataframe to an interactive table.\"\n",
              "              style=\"display:none;\">\n",
              "        \n",
              "  <svg xmlns=\"http://www.w3.org/2000/svg\" height=\"24px\"viewBox=\"0 0 24 24\"\n",
              "       width=\"24px\">\n",
              "    <path d=\"M0 0h24v24H0V0z\" fill=\"none\"/>\n",
              "    <path d=\"M18.56 5.44l.94 2.06.94-2.06 2.06-.94-2.06-.94-.94-2.06-.94 2.06-2.06.94zm-11 1L8.5 8.5l.94-2.06 2.06-.94-2.06-.94L8.5 2.5l-.94 2.06-2.06.94zm10 10l.94 2.06.94-2.06 2.06-.94-2.06-.94-.94-2.06-.94 2.06-2.06.94z\"/><path d=\"M17.41 7.96l-1.37-1.37c-.4-.4-.92-.59-1.43-.59-.52 0-1.04.2-1.43.59L10.3 9.45l-7.72 7.72c-.78.78-.78 2.05 0 2.83L4 21.41c.39.39.9.59 1.41.59.51 0 1.02-.2 1.41-.59l7.78-7.78 2.81-2.81c.8-.78.8-2.07 0-2.86zM5.41 20L4 18.59l7.72-7.72 1.47 1.35L5.41 20z\"/>\n",
              "  </svg>\n",
              "      </button>\n",
              "      \n",
              "  <style>\n",
              "    .colab-df-container {\n",
              "      display:flex;\n",
              "      flex-wrap:wrap;\n",
              "      gap: 12px;\n",
              "    }\n",
              "\n",
              "    .colab-df-convert {\n",
              "      background-color: #E8F0FE;\n",
              "      border: none;\n",
              "      border-radius: 50%;\n",
              "      cursor: pointer;\n",
              "      display: none;\n",
              "      fill: #1967D2;\n",
              "      height: 32px;\n",
              "      padding: 0 0 0 0;\n",
              "      width: 32px;\n",
              "    }\n",
              "\n",
              "    .colab-df-convert:hover {\n",
              "      background-color: #E2EBFA;\n",
              "      box-shadow: 0px 1px 2px rgba(60, 64, 67, 0.3), 0px 1px 3px 1px rgba(60, 64, 67, 0.15);\n",
              "      fill: #174EA6;\n",
              "    }\n",
              "\n",
              "    [theme=dark] .colab-df-convert {\n",
              "      background-color: #3B4455;\n",
              "      fill: #D2E3FC;\n",
              "    }\n",
              "\n",
              "    [theme=dark] .colab-df-convert:hover {\n",
              "      background-color: #434B5C;\n",
              "      box-shadow: 0px 1px 3px 1px rgba(0, 0, 0, 0.15);\n",
              "      filter: drop-shadow(0px 1px 2px rgba(0, 0, 0, 0.3));\n",
              "      fill: #FFFFFF;\n",
              "    }\n",
              "  </style>\n",
              "\n",
              "      <script>\n",
              "        const buttonEl =\n",
              "          document.querySelector('#df-bea1922f-0c50-40db-8e3c-fb31cac0d9a7 button.colab-df-convert');\n",
              "        buttonEl.style.display =\n",
              "          google.colab.kernel.accessAllowed ? 'block' : 'none';\n",
              "\n",
              "        async function convertToInteractive(key) {\n",
              "          const element = document.querySelector('#df-bea1922f-0c50-40db-8e3c-fb31cac0d9a7');\n",
              "          const dataTable =\n",
              "            await google.colab.kernel.invokeFunction('convertToInteractive',\n",
              "                                                     [key], {});\n",
              "          if (!dataTable) return;\n",
              "\n",
              "          const docLinkHtml = 'Like what you see? Visit the ' +\n",
              "            '<a target=\"_blank\" href=https://colab.research.google.com/notebooks/data_table.ipynb>data table notebook</a>'\n",
              "            + ' to learn more about interactive tables.';\n",
              "          element.innerHTML = '';\n",
              "          dataTable['output_type'] = 'display_data';\n",
              "          await google.colab.output.renderOutput(dataTable, element);\n",
              "          const docLink = document.createElement('div');\n",
              "          docLink.innerHTML = docLinkHtml;\n",
              "          element.appendChild(docLink);\n",
              "        }\n",
              "      </script>\n",
              "    </div>\n",
              "  </div>\n",
              "  "
            ],
            "text/plain": [
              "                                                 text_a label  worth\n",
              "220                    hoaks pasien korona di indonesia   yes      1\n",
              "2363  kemaren kerja deket tv client denger menkes ng...    no      0\n",
              "196   kapansi covid 19 berhenti menyebar menghilang ...    no      0\n",
              "1449  gadai cepat wa 0812 1800 9839 gadai rumah sert...    no      0\n",
              "656   e100ss spt nya menkes sesuai panduan who https...    no      0"
            ]
          },
          "execution_count": 8,
          "metadata": {},
          "output_type": "execute_result"
        }
      ],
      "source": [
        "df_test['worth'] = df_test['label'].apply(lambda x : 1 if x=='yes' else 0)\n",
        "df_test.sample(5)"
      ]
    },
    {
      "cell_type": "code",
      "execution_count": 9,
      "metadata": {
        "colab": {
          "base_uri": "https://localhost:8080/",
          "height": 206
        },
        "id": "3xjZa_qjfj3r",
        "outputId": "ae7cabdd-8dbf-4510-dca8-cc3c98018b31"
      },
      "outputs": [
        {
          "data": {
            "text/html": [
              "\n",
              "  <div id=\"df-025150d8-7e64-4bfe-8107-914ffd9fc477\">\n",
              "    <div class=\"colab-df-container\">\n",
              "      <div>\n",
              "<style scoped>\n",
              "    .dataframe tbody tr th:only-of-type {\n",
              "        vertical-align: middle;\n",
              "    }\n",
              "\n",
              "    .dataframe tbody tr th {\n",
              "        vertical-align: top;\n",
              "    }\n",
              "\n",
              "    .dataframe thead th {\n",
              "        text-align: right;\n",
              "    }\n",
              "</style>\n",
              "<table border=\"1\" class=\"dataframe\">\n",
              "  <thead>\n",
              "    <tr style=\"text-align: right;\">\n",
              "      <th></th>\n",
              "      <th>text_a</th>\n",
              "      <th>label</th>\n",
              "      <th>worth</th>\n",
              "    </tr>\n",
              "  </thead>\n",
              "  <tbody>\n",
              "    <tr>\n",
              "      <th>2075</th>\n",
              "      <td>fadlizon matanajwa najwashihab fadjroel jokowi...</td>\n",
              "      <td>no</td>\n",
              "      <td>0</td>\n",
              "    </tr>\n",
              "    <tr>\n",
              "      <th>989</th>\n",
              "      <td>fikrii509 musim ujan bjir takut kena virus corona</td>\n",
              "      <td>no</td>\n",
              "      <td>0</td>\n",
              "    </tr>\n",
              "    <tr>\n",
              "      <th>11</th>\n",
              "      <td>grosir masker spirulina depok sms wa 082258435...</td>\n",
              "      <td>no</td>\n",
              "      <td>0</td>\n",
              "    </tr>\n",
              "    <tr>\n",
              "      <th>13</th>\n",
              "      <td>ramayanads ezash ramayana aja min depok graha ...</td>\n",
              "      <td>no</td>\n",
              "      <td>0</td>\n",
              "    </tr>\n",
              "    <tr>\n",
              "      <th>1696</th>\n",
              "      <td>anies baswedan bentuk tim khusus posko tanggap...</td>\n",
              "      <td>yes</td>\n",
              "      <td>1</td>\n",
              "    </tr>\n",
              "  </tbody>\n",
              "</table>\n",
              "</div>\n",
              "      <button class=\"colab-df-convert\" onclick=\"convertToInteractive('df-025150d8-7e64-4bfe-8107-914ffd9fc477')\"\n",
              "              title=\"Convert this dataframe to an interactive table.\"\n",
              "              style=\"display:none;\">\n",
              "        \n",
              "  <svg xmlns=\"http://www.w3.org/2000/svg\" height=\"24px\"viewBox=\"0 0 24 24\"\n",
              "       width=\"24px\">\n",
              "    <path d=\"M0 0h24v24H0V0z\" fill=\"none\"/>\n",
              "    <path d=\"M18.56 5.44l.94 2.06.94-2.06 2.06-.94-2.06-.94-.94-2.06-.94 2.06-2.06.94zm-11 1L8.5 8.5l.94-2.06 2.06-.94-2.06-.94L8.5 2.5l-.94 2.06-2.06.94zm10 10l.94 2.06.94-2.06 2.06-.94-2.06-.94-.94-2.06-.94 2.06-2.06.94z\"/><path d=\"M17.41 7.96l-1.37-1.37c-.4-.4-.92-.59-1.43-.59-.52 0-1.04.2-1.43.59L10.3 9.45l-7.72 7.72c-.78.78-.78 2.05 0 2.83L4 21.41c.39.39.9.59 1.41.59.51 0 1.02-.2 1.41-.59l7.78-7.78 2.81-2.81c.8-.78.8-2.07 0-2.86zM5.41 20L4 18.59l7.72-7.72 1.47 1.35L5.41 20z\"/>\n",
              "  </svg>\n",
              "      </button>\n",
              "      \n",
              "  <style>\n",
              "    .colab-df-container {\n",
              "      display:flex;\n",
              "      flex-wrap:wrap;\n",
              "      gap: 12px;\n",
              "    }\n",
              "\n",
              "    .colab-df-convert {\n",
              "      background-color: #E8F0FE;\n",
              "      border: none;\n",
              "      border-radius: 50%;\n",
              "      cursor: pointer;\n",
              "      display: none;\n",
              "      fill: #1967D2;\n",
              "      height: 32px;\n",
              "      padding: 0 0 0 0;\n",
              "      width: 32px;\n",
              "    }\n",
              "\n",
              "    .colab-df-convert:hover {\n",
              "      background-color: #E2EBFA;\n",
              "      box-shadow: 0px 1px 2px rgba(60, 64, 67, 0.3), 0px 1px 3px 1px rgba(60, 64, 67, 0.15);\n",
              "      fill: #174EA6;\n",
              "    }\n",
              "\n",
              "    [theme=dark] .colab-df-convert {\n",
              "      background-color: #3B4455;\n",
              "      fill: #D2E3FC;\n",
              "    }\n",
              "\n",
              "    [theme=dark] .colab-df-convert:hover {\n",
              "      background-color: #434B5C;\n",
              "      box-shadow: 0px 1px 3px 1px rgba(0, 0, 0, 0.15);\n",
              "      filter: drop-shadow(0px 1px 2px rgba(0, 0, 0, 0.3));\n",
              "      fill: #FFFFFF;\n",
              "    }\n",
              "  </style>\n",
              "\n",
              "      <script>\n",
              "        const buttonEl =\n",
              "          document.querySelector('#df-025150d8-7e64-4bfe-8107-914ffd9fc477 button.colab-df-convert');\n",
              "        buttonEl.style.display =\n",
              "          google.colab.kernel.accessAllowed ? 'block' : 'none';\n",
              "\n",
              "        async function convertToInteractive(key) {\n",
              "          const element = document.querySelector('#df-025150d8-7e64-4bfe-8107-914ffd9fc477');\n",
              "          const dataTable =\n",
              "            await google.colab.kernel.invokeFunction('convertToInteractive',\n",
              "                                                     [key], {});\n",
              "          if (!dataTable) return;\n",
              "\n",
              "          const docLinkHtml = 'Like what you see? Visit the ' +\n",
              "            '<a target=\"_blank\" href=https://colab.research.google.com/notebooks/data_table.ipynb>data table notebook</a>'\n",
              "            + ' to learn more about interactive tables.';\n",
              "          element.innerHTML = '';\n",
              "          dataTable['output_type'] = 'display_data';\n",
              "          await google.colab.output.renderOutput(dataTable, element);\n",
              "          const docLink = document.createElement('div');\n",
              "          docLink.innerHTML = docLinkHtml;\n",
              "          element.appendChild(docLink);\n",
              "        }\n",
              "      </script>\n",
              "    </div>\n",
              "  </div>\n",
              "  "
            ],
            "text/plain": [
              "                                                 text_a label  worth\n",
              "2075  fadlizon matanajwa najwashihab fadjroel jokowi...    no      0\n",
              "989   fikrii509 musim ujan bjir takut kena virus corona    no      0\n",
              "11    grosir masker spirulina depok sms wa 082258435...    no      0\n",
              "13    ramayanads ezash ramayana aja min depok graha ...    no      0\n",
              "1696  anies baswedan bentuk tim khusus posko tanggap...   yes      1"
            ]
          },
          "execution_count": 9,
          "metadata": {},
          "output_type": "execute_result"
        }
      ],
      "source": [
        "# val\n",
        "df_dev['worth'] = df_dev['label'].apply(lambda x : 1 if x=='yes' else 0)\n",
        "df_dev.sample(5)"
      ]
    },
    {
      "cell_type": "markdown",
      "metadata": {
        "id": "EZLHaTPWVGdr"
      },
      "source": [
        "## Cek Persebaran Data"
      ]
    },
    {
      "cell_type": "code",
      "execution_count": 10,
      "metadata": {
        "colab": {
          "base_uri": "https://localhost:8080/",
          "height": 338
        },
        "id": "E94PstJrsXg9",
        "outputId": "07b63607-8d1c-4b94-9300-5774dd76147a"
      },
      "outputs": [
        {
          "name": "stderr",
          "output_type": "stream",
          "text": [
            "/usr/local/lib/python3.7/dist-packages/seaborn/_decorators.py:43: FutureWarning: Pass the following variables as keyword args: x, y. From version 0.12, the only valid positional argument will be `data`, and passing other arguments without an explicit keyword will result in an error or misinterpretation.\n",
            "  FutureWarning\n"
          ]
        },
        {
          "data": {
            "text/plain": [
              "Text(0, 0.5, 'samples')"
            ]
          },
          "execution_count": 10,
          "metadata": {},
          "output_type": "execute_result"
        },
        {
          "data": {
            "image/png": "[encoded data removed]",
            "text/plain": [
              "<Figure size 432x288 with 1 Axes>"
            ]
          },
          "metadata": {
            "needs_background": "light"
          },
          "output_type": "display_data"
        }
      ],
      "source": [
        "import seaborn as sns\n",
        "import matplotlib.pyplot as plt\n",
        "\n",
        "x=df_train.worth.value_counts()\n",
        "sns.barplot(x.index,x)\n",
        "plt.gca().set_ylabel('samples')"
      ]
    },
    {
      "cell_type": "code",
      "execution_count": 11,
      "metadata": {
        "id": "TBkl9hRDBNtT"
      },
      "outputs": [],
      "source": [
        "sentences = df_train.text_a.values\n",
        "labels = df_train.worth.values\n",
        "\n",
        "sentences_test = df_test.text_a.values\n",
        "labels_test = df_test.worth.values\n",
        "\n",
        "sentences_val = df_dev.text_a.values\n",
        "labels_val = df_dev.worth.values"
      ]
    },
    {
      "cell_type": "markdown",
      "metadata": {
        "id": "2_N_mAW6fPmP"
      },
      "source": [
        "## **Load BERT Tokenizer**"
      ]
    },
    {
      "cell_type": "code",
      "execution_count": 12,
      "metadata": {
        "colab": {
          "base_uri": "https://localhost:8080/"
        },
        "id": "vMc4LncOHdtw",
        "outputId": "12923d03-acce-4c86-a5b9-734a11e41853"
      },
      "outputs": [
        {
          "name": "stdout",
          "output_type": "stream",
          "text": [
            "Loading BERT Tokenizer\n"
          ]
        }
      ],
      "source": [
        "from transformers import BertTokenizer\n",
        "\n",
        "print(\"Loading BERT Tokenizer\")\n",
        "tokenizer = BertTokenizer.from_pretrained('bert-base-multilingual-uncased', do_lower_case=True)"
      ]
    },
    {
      "cell_type": "code",
      "execution_count": 13,
      "metadata": {
        "colab": {
          "base_uri": "https://localhost:8080/",
          "height": 206
        },
        "id": "NmgvKwtysJuq",
        "outputId": "a696d487-2fb6-4c75-83d5-b7e64190609a"
      },
      "outputs": [
        {
          "data": {
            "text/html": [
              "\n",
              "  <div id=\"df-bbf0b67c-0395-4637-a695-95683914f08e\">\n",
              "    <div class=\"colab-df-container\">\n",
              "      <div>\n",
              "<style scoped>\n",
              "    .dataframe tbody tr th:only-of-type {\n",
              "        vertical-align: middle;\n",
              "    }\n",
              "\n",
              "    .dataframe tbody tr th {\n",
              "        vertical-align: top;\n",
              "    }\n",
              "\n",
              "    .dataframe thead th {\n",
              "        text-align: right;\n",
              "    }\n",
              "</style>\n",
              "<table border=\"1\" class=\"dataframe\">\n",
              "  <thead>\n",
              "    <tr style=\"text-align: right;\">\n",
              "      <th></th>\n",
              "      <th>Unnamed: 0</th>\n",
              "      <th>text_a</th>\n",
              "      <th>label</th>\n",
              "      <th>worth</th>\n",
              "    </tr>\n",
              "  </thead>\n",
              "  <tbody>\n",
              "    <tr>\n",
              "      <th>5641</th>\n",
              "      <td>5641</td>\n",
              "      <td>cakndu27 cakasana cari endorse pemprov</td>\n",
              "      <td>no</td>\n",
              "      <td>0</td>\n",
              "    </tr>\n",
              "    <tr>\n",
              "      <th>5747</th>\n",
              "      <td>5747</td>\n",
              "      <td>bansos polres cianjur program covid 19 polda j...</td>\n",
              "      <td>yes</td>\n",
              "      <td>1</td>\n",
              "    </tr>\n",
              "    <tr>\n",
              "      <th>6921</th>\n",
              "      <td>6921</td>\n",
              "      <td>fakta data umur 50 keatas rentan terjangkit vi...</td>\n",
              "      <td>yes</td>\n",
              "      <td>1</td>\n",
              "    </tr>\n",
              "    <tr>\n",
              "      <th>11081</th>\n",
              "      <td>11081</td>\n",
              "      <td>dapet kabar indonesia postif corona maafin kua...</td>\n",
              "      <td>yes</td>\n",
              "      <td>1</td>\n",
              "    </tr>\n",
              "    <tr>\n",
              "      <th>19472</th>\n",
              "      <td>19472</td>\n",
              "      <td>tu yg bilang indonesia kebal ame virus corona ...</td>\n",
              "      <td>no</td>\n",
              "      <td>0</td>\n",
              "    </tr>\n",
              "  </tbody>\n",
              "</table>\n",
              "</div>\n",
              "      <button class=\"colab-df-convert\" onclick=\"convertToInteractive('df-bbf0b67c-0395-4637-a695-95683914f08e')\"\n",
              "              title=\"Convert this dataframe to an interactive table.\"\n",
              "              style=\"display:none;\">\n",
              "        \n",
              "  <svg xmlns=\"http://www.w3.org/2000/svg\" height=\"24px\"viewBox=\"0 0 24 24\"\n",
              "       width=\"24px\">\n",
              "    <path d=\"M0 0h24v24H0V0z\" fill=\"none\"/>\n",
              "    <path d=\"M18.56 5.44l.94 2.06.94-2.06 2.06-.94-2.06-.94-.94-2.06-.94 2.06-2.06.94zm-11 1L8.5 8.5l.94-2.06 2.06-.94-2.06-.94L8.5 2.5l-.94 2.06-2.06.94zm10 10l.94 2.06.94-2.06 2.06-.94-2.06-.94-.94-2.06-.94 2.06-2.06.94z\"/><path d=\"M17.41 7.96l-1.37-1.37c-.4-.4-.92-.59-1.43-.59-.52 0-1.04.2-1.43.59L10.3 9.45l-7.72 7.72c-.78.78-.78 2.05 0 2.83L4 21.41c.39.39.9.59 1.41.59.51 0 1.02-.2 1.41-.59l7.78-7.78 2.81-2.81c.8-.78.8-2.07 0-2.86zM5.41 20L4 18.59l7.72-7.72 1.47 1.35L5.41 20z\"/>\n",
              "  </svg>\n",
              "      </button>\n",
              "      \n",
              "  <style>\n",
              "    .colab-df-container {\n",
              "      display:flex;\n",
              "      flex-wrap:wrap;\n",
              "      gap: 12px;\n",
              "    }\n",
              "\n",
              "    .colab-df-convert {\n",
              "      background-color: #E8F0FE;\n",
              "      border: none;\n",
              "      border-radius: 50%;\n",
              "      cursor: pointer;\n",
              "      display: none;\n",
              "      fill: #1967D2;\n",
              "      height: 32px;\n",
              "      padding: 0 0 0 0;\n",
              "      width: 32px;\n",
              "    }\n",
              "\n",
              "    .colab-df-convert:hover {\n",
              "      background-color: #E2EBFA;\n",
              "      box-shadow: 0px 1px 2px rgba(60, 64, 67, 0.3), 0px 1px 3px 1px rgba(60, 64, 67, 0.15);\n",
              "      fill: #174EA6;\n",
              "    }\n",
              "\n",
              "    [theme=dark] .colab-df-convert {\n",
              "      background-color: #3B4455;\n",
              "      fill: #D2E3FC;\n",
              "    }\n",
              "\n",
              "    [theme=dark] .colab-df-convert:hover {\n",
              "      background-color: #434B5C;\n",
              "      box-shadow: 0px 1px 3px 1px rgba(0, 0, 0, 0.15);\n",
              "      filter: drop-shadow(0px 1px 2px rgba(0, 0, 0, 0.3));\n",
              "      fill: #FFFFFF;\n",
              "    }\n",
              "  </style>\n",
              "\n",
              "      <script>\n",
              "        const buttonEl =\n",
              "          document.querySelector('#df-bbf0b67c-0395-4637-a695-95683914f08e button.colab-df-convert');\n",
              "        buttonEl.style.display =\n",
              "          google.colab.kernel.accessAllowed ? 'block' : 'none';\n",
              "\n",
              "        async function convertToInteractive(key) {\n",
              "          const element = document.querySelector('#df-bbf0b67c-0395-4637-a695-95683914f08e');\n",
              "          const dataTable =\n",
              "            await google.colab.kernel.invokeFunction('convertToInteractive',\n",
              "                                                     [key], {});\n",
              "          if (!dataTable) return;\n",
              "\n",
              "          const docLinkHtml = 'Like what you see? Visit the ' +\n",
              "            '<a target=\"_blank\" href=https://colab.research.google.com/notebooks/data_table.ipynb>data table notebook</a>'\n",
              "            + ' to learn more about interactive tables.';\n",
              "          element.innerHTML = '';\n",
              "          dataTable['output_type'] = 'display_data';\n",
              "          await google.colab.output.renderOutput(dataTable, element);\n",
              "          const docLink = document.createElement('div');\n",
              "          docLink.innerHTML = docLinkHtml;\n",
              "          element.appendChild(docLink);\n",
              "        }\n",
              "      </script>\n",
              "    </div>\n",
              "  </div>\n",
              "  "
            ],
            "text/plain": [
              "       Unnamed: 0                                             text_a label  \\\n",
              "5641         5641             cakndu27 cakasana cari endorse pemprov    no   \n",
              "5747         5747  bansos polres cianjur program covid 19 polda j...   yes   \n",
              "6921         6921  fakta data umur 50 keatas rentan terjangkit vi...   yes   \n",
              "11081       11081  dapet kabar indonesia postif corona maafin kua...   yes   \n",
              "19472       19472  tu yg bilang indonesia kebal ame virus corona ...    no   \n",
              "\n",
              "       worth  \n",
              "5641       0  \n",
              "5747       1  \n",
              "6921       1  \n",
              "11081      1  \n",
              "19472      0  "
            ]
          },
          "execution_count": 13,
          "metadata": {},
          "output_type": "execute_result"
        }
      ],
      "source": [
        "df_train.sample(5)"
      ]
    },
    {
      "cell_type": "markdown",
      "metadata": {
        "id": "sprZdC1HlKrc"
      },
      "source": [
        "### Tokenisasi dan Mapping Token Sentence ke Index di Tokenizer Vocabulary milik BERT Base Multilingua Uncased"
      ]
    },
    {
      "cell_type": "code",
      "execution_count": 14,
      "metadata": {
        "colab": {
          "base_uri": "https://localhost:8080/"
        },
        "id": "0VfxuBuyIJxY",
        "outputId": "5c198b5a-39a4-4d2f-c01d-651710a7c6d9"
      },
      "outputs": [
        {
          "name": "stdout",
          "output_type": "stream",
          "text": [
            "Original:  betewe buka twitter cuman ngetweet liat home berita corona panik kepikiran ndamau buka2 home yg aware aja i ll stay at home nda rumah kalo nda penting2 banget\n",
            "Tokenized:  ['bete', '##we', 'bu', '##ka', 'twitter', 'cuma', '##n', 'ng', '##et', '##wee', '##t', 'lia', '##t', 'home', 'berita', 'corona', 'pani', '##k', 'kep', '##iki', '##ran', 'nda', '##mau', 'bu', '##ka', '##2', 'home', 'yg', 'aware', 'aja', 'i', 'll', 'stay', 'at', 'home', 'nda', 'rumah', 'kal', '##o', 'nda', 'penting', '##2', 'bang', '##et']\n",
            "Token IDS:  [78811, 12351, 10920, 10358, 23588, 94097, 10115, 10822, 10337, 67954, 10123, 60241, 10123, 11402, 62637, 20241, 49034, 10167, 65911, 23802, 12056, 24305, 84144, 10920, 10358, 10835, 11402, 95759, 58910, 57950, 151, 17361, 22560, 10160, 11402, 24305, 20297, 54376, 10132, 24305, 33815, 10835, 12221, 10337]\n"
          ]
        }
      ],
      "source": [
        "print(\"Original: \", sentences[0])\n",
        "\n",
        "print(\"Tokenized: \", tokenizer.tokenize(sentences[0]))\n",
        "\n",
        "print(\"Token IDS: \", tokenizer.convert_tokens_to_ids(tokenizer.tokenize(sentences[0])))"
      ]
    },
    {
      "cell_type": "markdown",
      "metadata": {
        "id": "0p7umMVyQcOA"
      },
      "source": [
        "### Memberikan token [CLS] di awal Token IDS dan token [SEP] di akhir untuk sentences yang di tokenized"
      ]
    },
    {
      "cell_type": "code",
      "execution_count": 15,
      "metadata": {
        "colab": {
          "base_uri": "https://localhost:8080/"
        },
        "id": "pHPzXRJAITnv",
        "outputId": "edea54c5-97be-4316-9279-167394ea75e9"
      },
      "outputs": [
        {
          "name": "stderr",
          "output_type": "stream",
          "text": [
            "Token indices sequence length is longer than the specified maximum sequence length for this model (704 > 512). Running this sequence through the model will result in indexing errors\n"
          ]
        },
        {
          "name": "stdout",
          "output_type": "stream",
          "text": [
            "Original:  betewe buka twitter cuman ngetweet liat home berita corona panik kepikiran ndamau buka2 home yg aware aja i ll stay at home nda rumah kalo nda penting2 banget\n",
            "Token IDs:  [101, 78811, 12351, 10920, 10358, 23588, 94097, 10115, 10822, 10337, 67954, 10123, 60241, 10123, 11402, 62637, 20241, 49034, 10167, 65911, 23802, 12056, 24305, 84144, 10920, 10358, 10835, 11402, 95759, 58910, 57950, 151, 17361, 22560, 10160, 11402, 24305, 20297, 54376, 10132, 24305, 33815, 10835, 12221, 10337, 102]\n"
          ]
        }
      ],
      "source": [
        "# for train data\n",
        "input_ids = []\n",
        "\n",
        "for sent in sentences:\n",
        "  encoded_sent = tokenizer.encode(\n",
        "      sent,\n",
        "      add_special_tokens = True\n",
        "  )\n",
        "  input_ids.append(encoded_sent)\n",
        "\n",
        "print(\"Original: \", sentences[0])\n",
        "print(\"Token IDs: \", input_ids[0])\n",
        "\n"
      ]
    },
    {
      "cell_type": "code",
      "execution_count": 16,
      "metadata": {
        "colab": {
          "base_uri": "https://localhost:8080/"
        },
        "id": "UhCLX6SjbT9g",
        "outputId": "b62a0255-751d-419f-d316-cb314fe02a0c"
      },
      "outputs": [
        {
          "name": "stdout",
          "output_type": "stream",
          "text": [
            "Original:  jek dajal ga depok bang\n",
            "Token IDs:  [101, 10149, 10167, 10141, 24842, 11747, 10102, 41938, 12221, 102]\n"
          ]
        }
      ],
      "source": [
        "# for test data\n",
        "input_ids_test = []\n",
        "\n",
        "for sent in sentences_test:\n",
        "  encoded_sent = tokenizer.encode(\n",
        "      sent,\n",
        "      add_special_tokens = True\n",
        "  )\n",
        "  input_ids_test.append(encoded_sent)\n",
        "\n",
        "print(\"Original: \", sentences_test[0])\n",
        "print(\"Token IDs: \", input_ids_test[0])"
      ]
    },
    {
      "cell_type": "code",
      "execution_count": 17,
      "metadata": {
        "colab": {
          "base_uri": "https://localhost:8080/"
        },
        "id": "syQY0KYRgESj",
        "outputId": "2bcc7d1a-cba4-4f65-c123-4bcc7126a0dd"
      },
      "outputs": [
        {
          "name": "stdout",
          "output_type": "stream",
          "text": [
            "Original:  jek dajal ga depok bang\n",
            "Token IDs:  [101, 10149, 10167, 10141, 24842, 11747, 10102, 41938, 12221, 102]\n"
          ]
        }
      ],
      "source": [
        "# for val\n",
        "input_ids_val = []\n",
        "\n",
        "for sent in sentences_val:\n",
        "  encoded_sent = tokenizer.encode(\n",
        "      sent,\n",
        "      add_special_tokens = True\n",
        "  )\n",
        "  input_ids_val.append(encoded_sent)\n",
        "\n",
        "print(\"Original: \", sentences_val[0])\n",
        "print(\"Token IDs: \", input_ids_val[0])"
      ]
    },
    {
      "cell_type": "code",
      "execution_count": 18,
      "metadata": {
        "colab": {
          "base_uri": "https://localhost:8080/"
        },
        "id": "d5rgsfQHmSTw",
        "outputId": "2274afad-2906-434b-c8f5-0302d025575d"
      },
      "outputs": [
        {
          "name": "stdout",
          "output_type": "stream",
          "text": [
            "Max sentence length:  2639\n"
          ]
        }
      ],
      "source": [
        "# train data\n",
        "print(\"Max sentence length: \", max([len(sen) for sen in input_ids]))"
      ]
    },
    {
      "cell_type": "code",
      "execution_count": 19,
      "metadata": {
        "colab": {
          "base_uri": "https://localhost:8080/"
        },
        "id": "-C6rSI5bbxT-",
        "outputId": "fafa64bd-77f3-40eb-ac36-009931daa7c0"
      },
      "outputs": [
        {
          "name": "stdout",
          "output_type": "stream",
          "text": [
            "Max sentence length:  640\n"
          ]
        }
      ],
      "source": [
        "# test data\n",
        "print(\"Max sentence length: \", max([len(sen) for sen in input_ids_test]))"
      ]
    },
    {
      "cell_type": "code",
      "execution_count": 20,
      "metadata": {
        "colab": {
          "base_uri": "https://localhost:8080/"
        },
        "id": "BMwXeRHhgz8i",
        "outputId": "793b39f5-0b76-42ff-86a4-ac3b014b41a7"
      },
      "outputs": [
        {
          "name": "stdout",
          "output_type": "stream",
          "text": [
            "Max sentence length:  640\n"
          ]
        }
      ],
      "source": [
        "# dev/val\n",
        "print(\"Max sentence length: \", max([len(sen) for sen in input_ids_val]))"
      ]
    },
    {
      "cell_type": "markdown",
      "metadata": {
        "id": "no-qmKCxROOz"
      },
      "source": [
        "### Memberikan Padding"
      ]
    },
    {
      "cell_type": "code",
      "execution_count": 21,
      "metadata": {
        "colab": {
          "base_uri": "https://localhost:8080/"
        },
        "id": "4ER5yGm8meLg",
        "outputId": "addce4ab-1675-457c-b9c8-fef025082a21"
      },
      "outputs": [
        {
          "name": "stdout",
          "output_type": "stream",
          "text": [
            "Padding/truncating all sentences to 64 values\n",
            "Padding token: \"[PAD]\", ID: 0\n",
            "Done\n"
          ]
        }
      ],
      "source": [
        "# train data\n",
        "from keras.preprocessing.sequence import pad_sequences\n",
        "\n",
        "MAX_LEN = 64\n",
        "\n",
        "print(\"Padding/truncating all sentences to %d values\" % MAX_LEN)\n",
        "print('Padding token: \"{:}\", ID: {:}'.format(tokenizer.pad_token, tokenizer.pad_token_id))\n",
        "\n",
        "input_ids = pad_sequences(input_ids, maxlen=MAX_LEN, dtype='long', value=0, truncating='post', padding='post')\n",
        "\n",
        "print(\"Done\")"
      ]
    },
    {
      "cell_type": "code",
      "execution_count": 22,
      "metadata": {
        "colab": {
          "base_uri": "https://localhost:8080/"
        },
        "id": "DcutWSepcVYl",
        "outputId": "fd5c9017-2288-4eb2-c5b4-cc8a258e410e"
      },
      "outputs": [
        {
          "name": "stdout",
          "output_type": "stream",
          "text": [
            "Padding/truncating all sentences to 64 values\n",
            "Padding token: \"[PAD]\", ID: 0\n",
            "Done\n"
          ]
        }
      ],
      "source": [
        "# test data\n",
        "from keras.preprocessing.sequence import pad_sequences\n",
        "\n",
        "MAX_LEN = 64\n",
        "\n",
        "print(\"Padding/truncating all sentences to %d values\" % MAX_LEN)\n",
        "print('Padding token: \"{:}\", ID: {:}'.format(tokenizer.pad_token, tokenizer.pad_token_id))\n",
        "\n",
        "input_ids_test = pad_sequences(input_ids_test, maxlen=MAX_LEN, dtype='long', value=0, truncating='post', padding='post')\n",
        "\n",
        "print(\"Done\")"
      ]
    },
    {
      "cell_type": "code",
      "execution_count": 23,
      "metadata": {
        "colab": {
          "base_uri": "https://localhost:8080/"
        },
        "id": "W6Y5PJfEhAFx",
        "outputId": "1a7e6d52-13df-4daa-b0f7-ca81b637a02f"
      },
      "outputs": [
        {
          "name": "stdout",
          "output_type": "stream",
          "text": [
            "Padding/truncating all sentences to 64 values\n",
            "Padding token: \"[PAD]\", ID: 0\n",
            "Done\n"
          ]
        }
      ],
      "source": [
        "# val\n",
        "from keras.preprocessing.sequence import pad_sequences\n",
        "\n",
        "MAX_LEN = 64\n",
        "\n",
        "print(\"Padding/truncating all sentences to %d values\" % MAX_LEN)\n",
        "print('Padding token: \"{:}\", ID: {:}'.format(tokenizer.pad_token, tokenizer.pad_token_id))\n",
        "\n",
        "input_ids_val = pad_sequences(input_ids_val, maxlen=MAX_LEN, dtype='long', value=0, truncating='post', padding='post')\n",
        "\n",
        "print(\"Done\")\n"
      ]
    },
    {
      "cell_type": "markdown",
      "metadata": {
        "id": "g5a-z495RVJa"
      },
      "source": [
        "### Attention Mask"
      ]
    },
    {
      "cell_type": "code",
      "execution_count": 24,
      "metadata": {
        "id": "xgbpf1fWoCYv"
      },
      "outputs": [],
      "source": [
        "attention_mask_train = []\n",
        "\n",
        "for sent in input_ids:\n",
        "  att_mask_train = [int(token_id > 0) for token_id in sent]\n",
        "\n",
        "  attention_mask_train.append(att_mask_train)\n",
        "\n"
      ]
    },
    {
      "cell_type": "code",
      "execution_count": 25,
      "metadata": {
        "id": "LWMoz6I4c7jF"
      },
      "outputs": [],
      "source": [
        "attention_mask_test = []\n",
        "\n",
        "for sent in input_ids_test:\n",
        "  att_mask_test = [int(token_id > 0) for token_id in sent]\n",
        "\n",
        "  attention_mask_test.append(att_mask_test)"
      ]
    },
    {
      "cell_type": "code",
      "execution_count": 26,
      "metadata": {
        "id": "qZ2KRKPJhq8r"
      },
      "outputs": [],
      "source": [
        "attention_mask_val = []\n",
        "\n",
        "for sent in input_ids_test:\n",
        "  att_mask_val = [int(token_id > 0) for token_id in sent]\n",
        "\n",
        "  attention_mask_val.append(att_mask_val)"
      ]
    },
    {
      "cell_type": "markdown",
      "metadata": {
        "id": "bQybI-XdfpBs"
      },
      "source": [
        "## **Persiapkan data**"
      ]
    },
    {
      "cell_type": "code",
      "execution_count": 27,
      "metadata": {
        "colab": {
          "base_uri": "https://localhost:8080/"
        },
        "id": "DcbrNxAOiKzg",
        "outputId": "6d80166a-8c1e-4eb7-89a8-c4e5eaf26d06"
      },
      "outputs": [
        {
          "data": {
            "text/plain": [
              "(21601, 64)"
            ]
          },
          "execution_count": 27,
          "metadata": {},
          "output_type": "execute_result"
        }
      ],
      "source": [
        "from sklearn.model_selection import train_test_split\n",
        "\n",
        "\n",
        "\n",
        "# train & test\n",
        "train_input = input_ids.copy()\n",
        "train_labels = labels.copy()\n",
        "test_input = input_ids_test.copy()\n",
        "test_labels = labels_test.copy()\n",
        "\n",
        "\n",
        "\n",
        "\n",
        "# mask train & test\n",
        "train_mask = attention_mask_train.copy()\n",
        "test_mask =attention_mask_test.copy()\n",
        "\n",
        "\n",
        "\n",
        "# val\n",
        "validation_input = input_ids_val.copy()\n",
        "validation_labels = labels_val.copy()\n",
        "\n",
        "\n",
        "\n",
        "# mask val\n",
        "validation_mask = attention_mask_val.copy()\n",
        "\n",
        "# train_input[0]\n",
        "input_ids.shape\n"
      ]
    },
    {
      "cell_type": "code",
      "execution_count": 28,
      "metadata": {
        "colab": {
          "base_uri": "https://localhost:8080/"
        },
        "id": "jSsCBgJKs5S3",
        "outputId": "afc147c1-9714-41d3-c906-56ef36563e14"
      },
      "outputs": [
        {
          "name": "stdout",
          "output_type": "stream",
          "text": [
            "== Train ==\n",
            "Input:  (21601, 64)\n",
            "Label:  (21601,)\n",
            "Mask:  (21601, 64)\n",
            "\n",
            "== Validation ==\n",
            "Input:  (2800, 64)\n",
            "Label:  (2800,)\n",
            "Mask:  (2800, 64)\n",
            "\n",
            "== Test ==\n",
            "Input:  (2800, 64)\n",
            "Label:  (2800,)\n",
            "Mask:  (2800, 64)\n"
          ]
        }
      ],
      "source": [
        "import numpy as np\n",
        "print(\"== Train ==\")\n",
        "print(\"Input: \", train_input.shape)\n",
        "print(\"Label: \", train_labels.shape)\n",
        "print(\"Mask: \", np.array(train_mask).shape)\n",
        "\n",
        "print(\"\\n== Validation ==\")\n",
        "print(\"Input: \", validation_input.shape)\n",
        "print(\"Label: \", validation_labels.shape)\n",
        "print(\"Mask: \", np.array(validation_mask).shape)\n",
        "\n",
        "print(\"\\n== Test ==\")\n",
        "print(\"Input: \", test_input.shape)\n",
        "print(\"Label: \", test_labels.shape)\n",
        "print(\"Mask: \", np.array(test_mask).shape)"
      ]
    },
    {
      "cell_type": "code",
      "execution_count": 29,
      "metadata": {
        "id": "uftrQNKItAQf"
      },
      "outputs": [],
      "source": [
        "train_input = torch.tensor(train_input)\n",
        "train_labels = torch.tensor(train_labels)\n",
        "train_mask = torch.tensor(train_mask)\n",
        "\n",
        "validation_input = torch.tensor(validation_input)\n",
        "validation_labels = torch.tensor(validation_labels)\n",
        "validation_mask = torch.tensor(validation_mask)\n",
        "\n",
        "test_input = torch.tensor(test_input)\n",
        "test_labels = torch.tensor(test_labels)\n",
        "test_mask = torch.tensor(test_mask)"
      ]
    },
    {
      "cell_type": "code",
      "execution_count": 30,
      "metadata": {
        "id": "1CmnMnE2q12L"
      },
      "outputs": [],
      "source": [
        "from torch.utils.data import TensorDataset, DataLoader, RandomSampler, SequentialSampler\n",
        "\n",
        "batch_size = 8\n",
        "\n",
        "train_data = TensorDataset(train_input, train_mask, train_labels)\n",
        "train_sampler = RandomSampler(train_data)\n",
        "train_dataloader = DataLoader(train_data, sampler=train_sampler, batch_size=batch_size)\n",
        "\n",
        "validation_data = TensorDataset(validation_input, validation_mask, validation_labels)\n",
        "validation_sampler = SequentialSampler(validation_data)\n",
        "validation_dataloader = DataLoader(validation_data, sampler=validation_sampler, batch_size=batch_size)\n",
        "\n",
        "test_data = TensorDataset(test_input, test_mask, test_labels)\n",
        "test_sampler = SequentialSampler(test_data)\n",
        "test_dataloader = DataLoader(test_data, sampler=test_sampler, batch_size=batch_size)"
      ]
    },
    {
      "cell_type": "markdown",
      "metadata": {
        "id": "POIzdHuXf0U5"
      },
      "source": [
        "## **Persiapkan model pre-trained BERT**"
      ]
    },
    {
      "cell_type": "code",
      "execution_count": 31,
      "metadata": {
        "colab": {
          "base_uri": "https://localhost:8080/"
        },
        "id": "Q4_N0-MosMQM",
        "outputId": "50306d32-c0e6-452b-ad12-f982c1a7f04f"
      },
      "outputs": [
        {
          "name": "stderr",
          "output_type": "stream",
          "text": [
            "Some weights of the model checkpoint at bert-base-multilingual-uncased were not used when initializing BertForSequenceClassification: ['cls.predictions.transform.LayerNorm.weight', 'cls.seq_relationship.bias', 'cls.predictions.bias', 'cls.predictions.transform.dense.bias', 'cls.seq_relationship.weight', 'cls.predictions.decoder.weight', 'cls.predictions.transform.LayerNorm.bias', 'cls.predictions.transform.dense.weight']\n",
            "- This IS expected if you are initializing BertForSequenceClassification from the checkpoint of a model trained on another task or with another architecture (e.g. initializing a BertForSequenceClassification model from a BertForPreTraining model).\n",
            "- This IS NOT expected if you are initializing BertForSequenceClassification from the checkpoint of a model that you expect to be exactly identical (initializing a BertForSequenceClassification model from a BertForSequenceClassification model).\n",
            "Some weights of BertForSequenceClassification were not initialized from the model checkpoint at bert-base-multilingual-uncased and are newly initialized: ['classifier.weight', 'classifier.bias']\n",
            "You should probably TRAIN this model on a down-stream task to be able to use it for predictions and inference.\n"
          ]
        },
        {
          "data": {
            "text/plain": [
              "BertForSequenceClassification(\n",
              "  (bert): BertModel(\n",
              "    (embeddings): BertEmbeddings(\n",
              "      (word_embeddings): Embedding(105879, 768, padding_idx=0)\n",
              "      (position_embeddings): Embedding(512, 768)\n",
              "      (token_type_embeddings): Embedding(2, 768)\n",
              "      (LayerNorm): LayerNorm((768,), eps=1e-12, elementwise_affine=True)\n",
              "      (dropout): Dropout(p=0.1, inplace=False)\n",
              "    )\n",
              "    (encoder): BertEncoder(\n",
              "      (layer): ModuleList(\n",
              "        (0): BertLayer(\n",
              "          (attention): BertAttention(\n",
              "            (self): BertSelfAttention(\n",
              "              (query): Linear(in_features=768, out_features=768, bias=True)\n",
              "              (key): Linear(in_features=768, out_features=768, bias=True)\n",
              "              (value): Linear(in_features=768, out_features=768, bias=True)\n",
              "              (dropout): Dropout(p=0.1, inplace=False)\n",
              "            )\n",
              "            (output): BertSelfOutput(\n",
              "              (dense): Linear(in_features=768, out_features=768, bias=True)\n",
              "              (LayerNorm): LayerNorm((768,), eps=1e-12, elementwise_affine=True)\n",
              "              (dropout): Dropout(p=0.1, inplace=False)\n",
              "            )\n",
              "          )\n",
              "          (intermediate): BertIntermediate(\n",
              "            (dense): Linear(in_features=768, out_features=3072, bias=True)\n",
              "            (intermediate_act_fn): GELUActivation()\n",
              "          )\n",
              "          (output): BertOutput(\n",
              "            (dense): Linear(in_features=3072, out_features=768, bias=True)\n",
              "            (LayerNorm): LayerNorm((768,), eps=1e-12, elementwise_affine=True)\n",
              "            (dropout): Dropout(p=0.1, inplace=False)\n",
              "          )\n",
              "        )\n",
              "        (1): BertLayer(\n",
              "          (attention): BertAttention(\n",
              "            (self): BertSelfAttention(\n",
              "              (query): Linear(in_features=768, out_features=768, bias=True)\n",
              "              (key): Linear(in_features=768, out_features=768, bias=True)\n",
              "              (value): Linear(in_features=768, out_features=768, bias=True)\n",
              "              (dropout): Dropout(p=0.1, inplace=False)\n",
              "            )\n",
              "            (output): BertSelfOutput(\n",
              "              (dense): Linear(in_features=768, out_features=768, bias=True)\n",
              "              (LayerNorm): LayerNorm((768,), eps=1e-12, elementwise_affine=True)\n",
              "              (dropout): Dropout(p=0.1, inplace=False)\n",
              "            )\n",
              "          )\n",
              "          (intermediate): BertIntermediate(\n",
              "            (dense): Linear(in_features=768, out_features=3072, bias=True)\n",
              "            (intermediate_act_fn): GELUActivation()\n",
              "          )\n",
              "          (output): BertOutput(\n",
              "            (dense): Linear(in_features=3072, out_features=768, bias=True)\n",
              "            (LayerNorm): LayerNorm((768,), eps=1e-12, elementwise_affine=True)\n",
              "            (dropout): Dropout(p=0.1, inplace=False)\n",
              "          )\n",
              "        )\n",
              "        (2): BertLayer(\n",
              "          (attention): BertAttention(\n",
              "            (self): BertSelfAttention(\n",
              "              (query): Linear(in_features=768, out_features=768, bias=True)\n",
              "              (key): Linear(in_features=768, out_features=768, bias=True)\n",
              "              (value): Linear(in_features=768, out_features=768, bias=True)\n",
              "              (dropout): Dropout(p=0.1, inplace=False)\n",
              "            )\n",
              "            (output): BertSelfOutput(\n",
              "              (dense): Linear(in_features=768, out_features=768, bias=True)\n",
              "              (LayerNorm): LayerNorm((768,), eps=1e-12, elementwise_affine=True)\n",
              "              (dropout): Dropout(p=0.1, inplace=False)\n",
              "            )\n",
              "          )\n",
              "          (intermediate): BertIntermediate(\n",
              "            (dense): Linear(in_features=768, out_features=3072, bias=True)\n",
              "            (intermediate_act_fn): GELUActivation()\n",
              "          )\n",
              "          (output): BertOutput(\n",
              "            (dense): Linear(in_features=3072, out_features=768, bias=True)\n",
              "            (LayerNorm): LayerNorm((768,), eps=1e-12, elementwise_affine=True)\n",
              "            (dropout): Dropout(p=0.1, inplace=False)\n",
              "          )\n",
              "        )\n",
              "        (3): BertLayer(\n",
              "          (attention): BertAttention(\n",
              "            (self): BertSelfAttention(\n",
              "              (query): Linear(in_features=768, out_features=768, bias=True)\n",
              "              (key): Linear(in_features=768, out_features=768, bias=True)\n",
              "              (value): Linear(in_features=768, out_features=768, bias=True)\n",
              "              (dropout): Dropout(p=0.1, inplace=False)\n",
              "            )\n",
              "            (output): BertSelfOutput(\n",
              "              (dense): Linear(in_features=768, out_features=768, bias=True)\n",
              "              (LayerNorm): LayerNorm((768,), eps=1e-12, elementwise_affine=True)\n",
              "              (dropout): Dropout(p=0.1, inplace=False)\n",
              "            )\n",
              "          )\n",
              "          (intermediate): BertIntermediate(\n",
              "            (dense): Linear(in_features=768, out_features=3072, bias=True)\n",
              "            (intermediate_act_fn): GELUActivation()\n",
              "          )\n",
              "          (output): BertOutput(\n",
              "            (dense): Linear(in_features=3072, out_features=768, bias=True)\n",
              "            (LayerNorm): LayerNorm((768,), eps=1e-12, elementwise_affine=True)\n",
              "            (dropout): Dropout(p=0.1, inplace=False)\n",
              "          )\n",
              "        )\n",
              "        (4): BertLayer(\n",
              "          (attention): BertAttention(\n",
              "            (self): BertSelfAttention(\n",
              "              (query): Linear(in_features=768, out_features=768, bias=True)\n",
              "              (key): Linear(in_features=768, out_features=768, bias=True)\n",
              "              (value): Linear(in_features=768, out_features=768, bias=True)\n",
              "              (dropout): Dropout(p=0.1, inplace=False)\n",
              "            )\n",
              "            (output): BertSelfOutput(\n",
              "              (dense): Linear(in_features=768, out_features=768, bias=True)\n",
              "              (LayerNorm): LayerNorm((768,), eps=1e-12, elementwise_affine=True)\n",
              "              (dropout): Dropout(p=0.1, inplace=False)\n",
              "            )\n",
              "          )\n",
              "          (intermediate): BertIntermediate(\n",
              "            (dense): Linear(in_features=768, out_features=3072, bias=True)\n",
              "            (intermediate_act_fn): GELUActivation()\n",
              "          )\n",
              "          (output): BertOutput(\n",
              "            (dense): Linear(in_features=3072, out_features=768, bias=True)\n",
              "            (LayerNorm): LayerNorm((768,), eps=1e-12, elementwise_affine=True)\n",
              "            (dropout): Dropout(p=0.1, inplace=False)\n",
              "          )\n",
              "        )\n",
              "        (5): BertLayer(\n",
              "          (attention): BertAttention(\n",
              "            (self): BertSelfAttention(\n",
              "              (query): Linear(in_features=768, out_features=768, bias=True)\n",
              "              (key): Linear(in_features=768, out_features=768, bias=True)\n",
              "              (value): Linear(in_features=768, out_features=768, bias=True)\n",
              "              (dropout): Dropout(p=0.1, inplace=False)\n",
              "            )\n",
              "            (output): BertSelfOutput(\n",
              "              (dense): Linear(in_features=768, out_features=768, bias=True)\n",
              "              (LayerNorm): LayerNorm((768,), eps=1e-12, elementwise_affine=True)\n",
              "              (dropout): Dropout(p=0.1, inplace=False)\n",
              "            )\n",
              "          )\n",
              "          (intermediate): BertIntermediate(\n",
              "            (dense): Linear(in_features=768, out_features=3072, bias=True)\n",
              "            (intermediate_act_fn): GELUActivation()\n",
              "          )\n",
              "          (output): BertOutput(\n",
              "            (dense): Linear(in_features=3072, out_features=768, bias=True)\n",
              "            (LayerNorm): LayerNorm((768,), eps=1e-12, elementwise_affine=True)\n",
              "            (dropout): Dropout(p=0.1, inplace=False)\n",
              "          )\n",
              "        )\n",
              "        (6): BertLayer(\n",
              "          (attention): BertAttention(\n",
              "            (self): BertSelfAttention(\n",
              "              (query): Linear(in_features=768, out_features=768, bias=True)\n",
              "              (key): Linear(in_features=768, out_features=768, bias=True)\n",
              "              (value): Linear(in_features=768, out_features=768, bias=True)\n",
              "              (dropout): Dropout(p=0.1, inplace=False)\n",
              "            )\n",
              "            (output): BertSelfOutput(\n",
              "              (dense): Linear(in_features=768, out_features=768, bias=True)\n",
              "              (LayerNorm): LayerNorm((768,), eps=1e-12, elementwise_affine=True)\n",
              "              (dropout): Dropout(p=0.1, inplace=False)\n",
              "            )\n",
              "          )\n",
              "          (intermediate): BertIntermediate(\n",
              "            (dense): Linear(in_features=768, out_features=3072, bias=True)\n",
              "            (intermediate_act_fn): GELUActivation()\n",
              "          )\n",
              "          (output): BertOutput(\n",
              "            (dense): Linear(in_features=3072, out_features=768, bias=True)\n",
              "            (LayerNorm): LayerNorm((768,), eps=1e-12, elementwise_affine=True)\n",
              "            (dropout): Dropout(p=0.1, inplace=False)\n",
              "          )\n",
              "        )\n",
              "        (7): BertLayer(\n",
              "          (attention): BertAttention(\n",
              "            (self): BertSelfAttention(\n",
              "              (query): Linear(in_features=768, out_features=768, bias=True)\n",
              "              (key): Linear(in_features=768, out_features=768, bias=True)\n",
              "              (value): Linear(in_features=768, out_features=768, bias=True)\n",
              "              (dropout): Dropout(p=0.1, inplace=False)\n",
              "            )\n",
              "            (output): BertSelfOutput(\n",
              "              (dense): Linear(in_features=768, out_features=768, bias=True)\n",
              "              (LayerNorm): LayerNorm((768,), eps=1e-12, elementwise_affine=True)\n",
              "              (dropout): Dropout(p=0.1, inplace=False)\n",
              "            )\n",
              "          )\n",
              "          (intermediate): BertIntermediate(\n",
              "            (dense): Linear(in_features=768, out_features=3072, bias=True)\n",
              "            (intermediate_act_fn): GELUActivation()\n",
              "          )\n",
              "          (output): BertOutput(\n",
              "            (dense): Linear(in_features=3072, out_features=768, bias=True)\n",
              "            (LayerNorm): LayerNorm((768,), eps=1e-12, elementwise_affine=True)\n",
              "            (dropout): Dropout(p=0.1, inplace=False)\n",
              "          )\n",
              "        )\n",
              "        (8): BertLayer(\n",
              "          (attention): BertAttention(\n",
              "            (self): BertSelfAttention(\n",
              "              (query): Linear(in_features=768, out_features=768, bias=True)\n",
              "              (key): Linear(in_features=768, out_features=768, bias=True)\n",
              "              (value): Linear(in_features=768, out_features=768, bias=True)\n",
              "              (dropout): Dropout(p=0.1, inplace=False)\n",
              "            )\n",
              "            (output): BertSelfOutput(\n",
              "              (dense): Linear(in_features=768, out_features=768, bias=True)\n",
              "              (LayerNorm): LayerNorm((768,), eps=1e-12, elementwise_affine=True)\n",
              "              (dropout): Dropout(p=0.1, inplace=False)\n",
              "            )\n",
              "          )\n",
              "          (intermediate): BertIntermediate(\n",
              "            (dense): Linear(in_features=768, out_features=3072, bias=True)\n",
              "            (intermediate_act_fn): GELUActivation()\n",
              "          )\n",
              "          (output): BertOutput(\n",
              "            (dense): Linear(in_features=3072, out_features=768, bias=True)\n",
              "            (LayerNorm): LayerNorm((768,), eps=1e-12, elementwise_affine=True)\n",
              "            (dropout): Dropout(p=0.1, inplace=False)\n",
              "          )\n",
              "        )\n",
              "        (9): BertLayer(\n",
              "          (attention): BertAttention(\n",
              "            (self): BertSelfAttention(\n",
              "              (query): Linear(in_features=768, out_features=768, bias=True)\n",
              "              (key): Linear(in_features=768, out_features=768, bias=True)\n",
              "              (value): Linear(in_features=768, out_features=768, bias=True)\n",
              "              (dropout): Dropout(p=0.1, inplace=False)\n",
              "            )\n",
              "            (output): BertSelfOutput(\n",
              "              (dense): Linear(in_features=768, out_features=768, bias=True)\n",
              "              (LayerNorm): LayerNorm((768,), eps=1e-12, elementwise_affine=True)\n",
              "              (dropout): Dropout(p=0.1, inplace=False)\n",
              "            )\n",
              "          )\n",
              "          (intermediate): BertIntermediate(\n",
              "            (dense): Linear(in_features=768, out_features=3072, bias=True)\n",
              "            (intermediate_act_fn): GELUActivation()\n",
              "          )\n",
              "          (output): BertOutput(\n",
              "            (dense): Linear(in_features=3072, out_features=768, bias=True)\n",
              "            (LayerNorm): LayerNorm((768,), eps=1e-12, elementwise_affine=True)\n",
              "            (dropout): Dropout(p=0.1, inplace=False)\n",
              "          )\n",
              "        )\n",
              "        (10): BertLayer(\n",
              "          (attention): BertAttention(\n",
              "            (self): BertSelfAttention(\n",
              "              (query): Linear(in_features=768, out_features=768, bias=True)\n",
              "              (key): Linear(in_features=768, out_features=768, bias=True)\n",
              "              (value): Linear(in_features=768, out_features=768, bias=True)\n",
              "              (dropout): Dropout(p=0.1, inplace=False)\n",
              "            )\n",
              "            (output): BertSelfOutput(\n",
              "              (dense): Linear(in_features=768, out_features=768, bias=True)\n",
              "              (LayerNorm): LayerNorm((768,), eps=1e-12, elementwise_affine=True)\n",
              "              (dropout): Dropout(p=0.1, inplace=False)\n",
              "            )\n",
              "          )\n",
              "          (intermediate): BertIntermediate(\n",
              "            (dense): Linear(in_features=768, out_features=3072, bias=True)\n",
              "            (intermediate_act_fn): GELUActivation()\n",
              "          )\n",
              "          (output): BertOutput(\n",
              "            (dense): Linear(in_features=3072, out_features=768, bias=True)\n",
              "            (LayerNorm): LayerNorm((768,), eps=1e-12, elementwise_affine=True)\n",
              "            (dropout): Dropout(p=0.1, inplace=False)\n",
              "          )\n",
              "        )\n",
              "        (11): BertLayer(\n",
              "          (attention): BertAttention(\n",
              "            (self): BertSelfAttention(\n",
              "              (query): Linear(in_features=768, out_features=768, bias=True)\n",
              "              (key): Linear(in_features=768, out_features=768, bias=True)\n",
              "              (value): Linear(in_features=768, out_features=768, bias=True)\n",
              "              (dropout): Dropout(p=0.1, inplace=False)\n",
              "            )\n",
              "            (output): BertSelfOutput(\n",
              "              (dense): Linear(in_features=768, out_features=768, bias=True)\n",
              "              (LayerNorm): LayerNorm((768,), eps=1e-12, elementwise_affine=True)\n",
              "              (dropout): Dropout(p=0.1, inplace=False)\n",
              "            )\n",
              "          )\n",
              "          (intermediate): BertIntermediate(\n",
              "            (dense): Linear(in_features=768, out_features=3072, bias=True)\n",
              "            (intermediate_act_fn): GELUActivation()\n",
              "          )\n",
              "          (output): BertOutput(\n",
              "            (dense): Linear(in_features=3072, out_features=768, bias=True)\n",
              "            (LayerNorm): LayerNorm((768,), eps=1e-12, elementwise_affine=True)\n",
              "            (dropout): Dropout(p=0.1, inplace=False)\n",
              "          )\n",
              "        )\n",
              "      )\n",
              "    )\n",
              "    (pooler): BertPooler(\n",
              "      (dense): Linear(in_features=768, out_features=768, bias=True)\n",
              "      (activation): Tanh()\n",
              "    )\n",
              "  )\n",
              "  (dropout): Dropout(p=0.1, inplace=False)\n",
              "  (classifier): Linear(in_features=768, out_features=2, bias=True)\n",
              ")"
            ]
          },
          "execution_count": 31,
          "metadata": {},
          "output_type": "execute_result"
        }
      ],
      "source": [
        "from transformers import BertForSequenceClassification, AdamW, BertConfig\n",
        "\n",
        "model = BertForSequenceClassification.from_pretrained(\n",
        "    \"bert-base-multilingual-uncased\",\n",
        "    num_labels = 2,\n",
        "    output_attentions = False,\n",
        "    output_hidden_states = False\n",
        ")\n",
        "\n",
        "model.cuda()"
      ]
    },
    {
      "cell_type": "code",
      "execution_count": 32,
      "metadata": {
        "colab": {
          "base_uri": "https://localhost:8080/"
        },
        "id": "0hWDIP0nNwHy",
        "outputId": "1496a153-6745-421c-b2aa-c04f5d0bc0db"
      },
      "outputs": [
        {
          "name": "stdout",
          "output_type": "stream",
          "text": [
            "The BERT model has 201 different named parameters.\n",
            "==== Embedding Layer ====\n",
            "bert.embeddings.word_embeddings.weight                       (105879, 768)\n",
            "bert.embeddings.position_embeddings.weight                     (512, 768)\n",
            "bert.embeddings.token_type_embeddings.weight                     (2, 768)\n",
            "bert.embeddings.LayerNorm.weight                                   (768,)\n",
            "bert.embeddings.LayerNorm.bias                                     (768,)\n",
            "==== First Transformers ====\n",
            "bert.encoder.layer.0.attention.self.query.weight               (768, 768)\n",
            "bert.encoder.layer.0.attention.self.query.bias                     (768,)\n",
            "bert.encoder.layer.0.attention.self.key.weight                 (768, 768)\n",
            "bert.encoder.layer.0.attention.self.key.bias                       (768,)\n",
            "bert.encoder.layer.0.attention.self.value.weight               (768, 768)\n",
            "bert.encoder.layer.0.attention.self.value.bias                     (768,)\n",
            "bert.encoder.layer.0.attention.output.dense.weight             (768, 768)\n",
            "bert.encoder.layer.0.attention.output.dense.bias                   (768,)\n",
            "bert.encoder.layer.0.attention.output.LayerNorm.weight             (768,)\n",
            "bert.encoder.layer.0.attention.output.LayerNorm.bias               (768,)\n",
            "bert.encoder.layer.0.intermediate.dense.weight                (3072, 768)\n",
            "bert.encoder.layer.0.intermediate.dense.bias                      (3072,)\n",
            "bert.encoder.layer.0.output.dense.weight                      (768, 3072)\n",
            "bert.encoder.layer.0.output.dense.bias                             (768,)\n",
            "bert.encoder.layer.0.output.LayerNorm.weight                       (768,)\n",
            "bert.encoder.layer.0.output.LayerNorm.bias                         (768,)\n",
            "==== Output Layer ====\n",
            "bert.pooler.dense.weight                                       (768, 768)\n",
            "bert.pooler.dense.bias                                             (768,)\n",
            "classifier.weight                                                (2, 768)\n",
            "classifier.bias                                                      (2,)\n"
          ]
        }
      ],
      "source": [
        "params = list(model.named_parameters())\n",
        "\n",
        "print(\"The BERT model has {:} different named parameters.\".format(len(params)))\n",
        "\n",
        "print(\"==== Embedding Layer ====\")\n",
        "for p in params[0:5]:\n",
        "  print(\"{:<60} {:>12}\".format(p[0], str(tuple(p[1].size()))))\n",
        "\n",
        "print(\"==== First Transformers ====\")\n",
        "for p in params[5:21]:\n",
        "  print(\"{:<60} {:>12}\".format(p[0], str(tuple(p[1].size()))))\n",
        "\n",
        "print(\"==== Output Layer ====\")\n",
        "for p in params[-4:]:\n",
        "  print(\"{:<60} {:>12}\".format(p[0], str(tuple(p[1].size()))))"
      ]
    },
    {
      "cell_type": "markdown",
      "metadata": {
        "id": "CK3bDZ9ksgsF"
      },
      "source": [
        "### Optimizer"
      ]
    },
    {
      "cell_type": "code",
      "execution_count": 33,
      "metadata": {
        "colab": {
          "base_uri": "https://localhost:8080/"
        },
        "id": "-tBz9rRPOx_Q",
        "outputId": "4ebd0641-72c5-4267-ae56-f412e2401d53"
      },
      "outputs": [
        {
          "name": "stderr",
          "output_type": "stream",
          "text": [
            "/usr/local/lib/python3.7/dist-packages/transformers/optimization.py:310: FutureWarning: This implementation of AdamW is deprecated and will be removed in a future version. Use the PyTorch implementation torch.optim.AdamW instead, or set `no_deprecation_warning=True` to disable this warning\n",
            "  FutureWarning,\n"
          ]
        }
      ],
      "source": [
        "optimizer = AdamW(\n",
        "    model.parameters(),\n",
        "    lr = 2e-5,\n",
        "    eps = 1e-8\n",
        ")"
      ]
    },
    {
      "cell_type": "code",
      "execution_count": 34,
      "metadata": {
        "id": "bgi-3UW3PaRK"
      },
      "outputs": [],
      "source": [
        "from transformers import get_linear_schedule_with_warmup\n",
        "\n",
        "epochs = 5\n",
        "\n",
        "total_steps = len(train_dataloader) * epochs\n",
        "\n",
        "scheduler = get_linear_schedule_with_warmup(optimizer,\n",
        "                                             num_warmup_steps = 0,\n",
        "                                             num_training_steps = total_steps)"
      ]
    },
    {
      "cell_type": "code",
      "execution_count": 35,
      "metadata": {
        "id": "oroRGhupPkOz"
      },
      "outputs": [],
      "source": [
        "import numpy as np\n",
        "\n",
        "def flat_accuracy(preds, labels):\n",
        "  pred_flat = np.argmax(preds, axis=1).flatten()\n",
        "  labels_flat = labels.flatten()\n",
        "  return np.sum(pred_flat == labels_flat) / len(labels_flat)"
      ]
    },
    {
      "cell_type": "code",
      "execution_count": 36,
      "metadata": {
        "id": "53eJ-lpdTEG1"
      },
      "outputs": [],
      "source": [
        "import time\n",
        "import datetime\n",
        "\n",
        "def format_time(elapsed):\n",
        "  elapsed_rounded = int(round(elapsed))\n",
        "  return str(datetime.timedelta(seconds=elapsed_rounded))"
      ]
    },
    {
      "cell_type": "markdown",
      "metadata": {
        "id": "OiJzxtBAgHh3"
      },
      "source": [
        "## **Training BERT**"
      ]
    },
    {
      "cell_type": "code",
      "execution_count": 37,
      "metadata": {
        "colab": {
          "base_uri": "https://localhost:8080/"
        },
        "id": "epokdnpjTVaR",
        "outputId": "3c302ee6-b918-4e06-f157-03f885e1171a"
      },
      "outputs": [
        {
          "name": "stdout",
          "output_type": "stream",
          "text": [
            "======= Epoch 1 / 5 =======\n",
            "Training...\n",
            "Batch    40 of 2,701.     Elapsed: 0:00:06\n",
            "Batch    80 of 2,701.     Elapsed: 0:00:12\n",
            "Batch   120 of 2,701.     Elapsed: 0:00:17\n",
            "Batch   160 of 2,701.     Elapsed: 0:00:23\n",
            "Batch   200 of 2,701.     Elapsed: 0:00:28\n",
            "Batch   240 of 2,701.     Elapsed: 0:00:34\n",
            "Batch   280 of 2,701.     Elapsed: 0:00:39\n",
            "Batch   320 of 2,701.     Elapsed: 0:00:45\n",
            "Batch   360 of 2,701.     Elapsed: 0:00:51\n",
            "Batch   400 of 2,701.     Elapsed: 0:00:56\n",
            "Batch   440 of 2,701.     Elapsed: 0:01:02\n",
            "Batch   480 of 2,701.     Elapsed: 0:01:07\n",
            "Batch   520 of 2,701.     Elapsed: 0:01:13\n",
            "Batch   560 of 2,701.     Elapsed: 0:01:19\n",
            "Batch   600 of 2,701.     Elapsed: 0:01:24\n",
            "Batch   640 of 2,701.     Elapsed: 0:01:30\n",
            "Batch   680 of 2,701.     Elapsed: 0:01:36\n",
            "Batch   720 of 2,701.     Elapsed: 0:01:41\n",
            "Batch   760 of 2,701.     Elapsed: 0:01:47\n",
            "Batch   800 of 2,701.     Elapsed: 0:01:53\n",
            "Batch   840 of 2,701.     Elapsed: 0:01:58\n",
            "Batch   880 of 2,701.     Elapsed: 0:02:04\n",
            "Batch   920 of 2,701.     Elapsed: 0:02:10\n",
            "Batch   960 of 2,701.     Elapsed: 0:02:16\n",
            "Batch 1,000 of 2,701.     Elapsed: 0:02:21\n",
            "Batch 1,040 of 2,701.     Elapsed: 0:02:27\n",
            "Batch 1,080 of 2,701.     Elapsed: 0:02:33\n",
            "Batch 1,120 of 2,701.     Elapsed: 0:02:38\n",
            "Batch 1,160 of 2,701.     Elapsed: 0:02:44\n",
            "Batch 1,200 of 2,701.     Elapsed: 0:02:50\n",
            "Batch 1,240 of 2,701.     Elapsed: 0:02:55\n",
            "Batch 1,280 of 2,701.     Elapsed: 0:03:01\n",
            "Batch 1,320 of 2,701.     Elapsed: 0:03:07\n",
            "Batch 1,360 of 2,701.     Elapsed: 0:03:13\n",
            "Batch 1,400 of 2,701.     Elapsed: 0:03:18\n",
            "Batch 1,440 of 2,701.     Elapsed: 0:03:24\n",
            "Batch 1,480 of 2,701.     Elapsed: 0:03:30\n",
            "Batch 1,520 of 2,701.     Elapsed: 0:03:35\n",
            "Batch 1,560 of 2,701.     Elapsed: 0:03:41\n",
            "Batch 1,600 of 2,701.     Elapsed: 0:03:47\n",
            "Batch 1,640 of 2,701.     Elapsed: 0:03:52\n",
            "Batch 1,680 of 2,701.     Elapsed: 0:03:58\n",
            "Batch 1,720 of 2,701.     Elapsed: 0:04:04\n",
            "Batch 1,760 of 2,701.     Elapsed: 0:04:09\n",
            "Batch 1,800 of 2,701.     Elapsed: 0:04:15\n",
            "Batch 1,840 of 2,701.     Elapsed: 0:04:21\n",
            "Batch 1,880 of 2,701.     Elapsed: 0:04:28\n",
            "Batch 1,920 of 2,701.     Elapsed: 0:04:33\n",
            "Batch 1,960 of 2,701.     Elapsed: 0:04:39\n",
            "Batch 2,000 of 2,701.     Elapsed: 0:04:45\n",
            "Batch 2,040 of 2,701.     Elapsed: 0:04:51\n",
            "Batch 2,080 of 2,701.     Elapsed: 0:04:56\n",
            "Batch 2,120 of 2,701.     Elapsed: 0:05:02\n",
            "Batch 2,160 of 2,701.     Elapsed: 0:05:08\n",
            "Batch 2,200 of 2,701.     Elapsed: 0:05:13\n",
            "Batch 2,240 of 2,701.     Elapsed: 0:05:19\n",
            "Batch 2,280 of 2,701.     Elapsed: 0:05:25\n",
            "Batch 2,320 of 2,701.     Elapsed: 0:05:31\n",
            "Batch 2,360 of 2,701.     Elapsed: 0:05:36\n",
            "Batch 2,400 of 2,701.     Elapsed: 0:05:43\n",
            "Batch 2,440 of 2,701.     Elapsed: 0:05:48\n",
            "Batch 2,480 of 2,701.     Elapsed: 0:05:54\n",
            "Batch 2,520 of 2,701.     Elapsed: 0:06:00\n",
            "Batch 2,560 of 2,701.     Elapsed: 0:06:05\n",
            "Batch 2,600 of 2,701.     Elapsed: 0:06:11\n",
            "Batch 2,640 of 2,701.     Elapsed: 0:06:17\n",
            "Batch 2,680 of 2,701.     Elapsed: 0:06:22\n",
            "   Average training loss: 0.39\n",
            "   Training epoch took: 0:06:25\n",
            "Running Validation...\n",
            "   Accuracy: 0.85\n",
            "   Validation took: 0:00:10\n",
            "======= Epoch 2 / 5 =======\n",
            "Training...\n",
            "Batch    40 of 2,701.     Elapsed: 0:00:06\n",
            "Batch    80 of 2,701.     Elapsed: 0:00:11\n",
            "Batch   120 of 2,701.     Elapsed: 0:00:17\n",
            "Batch   160 of 2,701.     Elapsed: 0:00:23\n",
            "Batch   200 of 2,701.     Elapsed: 0:00:28\n",
            "Batch   240 of 2,701.     Elapsed: 0:00:34\n",
            "Batch   280 of 2,701.     Elapsed: 0:00:40\n",
            "Batch   320 of 2,701.     Elapsed: 0:00:46\n",
            "Batch   360 of 2,701.     Elapsed: 0:00:51\n",
            "Batch   400 of 2,701.     Elapsed: 0:00:57\n",
            "Batch   440 of 2,701.     Elapsed: 0:01:03\n",
            "Batch   480 of 2,701.     Elapsed: 0:01:08\n",
            "Batch   520 of 2,701.     Elapsed: 0:01:14\n",
            "Batch   560 of 2,701.     Elapsed: 0:01:20\n",
            "Batch   600 of 2,701.     Elapsed: 0:01:25\n",
            "Batch   640 of 2,701.     Elapsed: 0:01:31\n",
            "Batch   680 of 2,701.     Elapsed: 0:01:37\n",
            "Batch   720 of 2,701.     Elapsed: 0:01:43\n",
            "Batch   760 of 2,701.     Elapsed: 0:01:48\n",
            "Batch   800 of 2,701.     Elapsed: 0:01:54\n",
            "Batch   840 of 2,701.     Elapsed: 0:02:00\n",
            "Batch   880 of 2,701.     Elapsed: 0:02:05\n",
            "Batch   920 of 2,701.     Elapsed: 0:02:11\n",
            "Batch   960 of 2,701.     Elapsed: 0:02:17\n",
            "Batch 1,000 of 2,701.     Elapsed: 0:02:22\n",
            "Batch 1,040 of 2,701.     Elapsed: 0:02:28\n",
            "Batch 1,080 of 2,701.     Elapsed: 0:02:34\n",
            "Batch 1,120 of 2,701.     Elapsed: 0:02:39\n",
            "Batch 1,160 of 2,701.     Elapsed: 0:02:45\n",
            "Batch 1,200 of 2,701.     Elapsed: 0:02:51\n",
            "Batch 1,240 of 2,701.     Elapsed: 0:02:57\n",
            "Batch 1,280 of 2,701.     Elapsed: 0:03:02\n",
            "Batch 1,320 of 2,701.     Elapsed: 0:03:08\n",
            "Batch 1,360 of 2,701.     Elapsed: 0:03:14\n",
            "Batch 1,400 of 2,701.     Elapsed: 0:03:19\n",
            "Batch 1,440 of 2,701.     Elapsed: 0:03:25\n",
            "Batch 1,480 of 2,701.     Elapsed: 0:03:31\n",
            "Batch 1,520 of 2,701.     Elapsed: 0:03:36\n",
            "Batch 1,560 of 2,701.     Elapsed: 0:03:42\n",
            "Batch 1,600 of 2,701.     Elapsed: 0:03:48\n",
            "Batch 1,640 of 2,701.     Elapsed: 0:03:53\n",
            "Batch 1,680 of 2,701.     Elapsed: 0:03:59\n",
            "Batch 1,720 of 2,701.     Elapsed: 0:04:05\n",
            "Batch 1,760 of 2,701.     Elapsed: 0:04:11\n",
            "Batch 1,800 of 2,701.     Elapsed: 0:04:16\n",
            "Batch 1,840 of 2,701.     Elapsed: 0:04:22\n",
            "Batch 1,880 of 2,701.     Elapsed: 0:04:28\n",
            "Batch 1,920 of 2,701.     Elapsed: 0:04:33\n",
            "Batch 1,960 of 2,701.     Elapsed: 0:04:39\n",
            "Batch 2,000 of 2,701.     Elapsed: 0:04:45\n",
            "Batch 2,040 of 2,701.     Elapsed: 0:04:50\n",
            "Batch 2,080 of 2,701.     Elapsed: 0:04:56\n",
            "Batch 2,120 of 2,701.     Elapsed: 0:05:02\n",
            "Batch 2,160 of 2,701.     Elapsed: 0:05:07\n",
            "Batch 2,200 of 2,701.     Elapsed: 0:05:13\n",
            "Batch 2,240 of 2,701.     Elapsed: 0:05:19\n",
            "Batch 2,280 of 2,701.     Elapsed: 0:05:25\n",
            "Batch 2,320 of 2,701.     Elapsed: 0:05:30\n",
            "Batch 2,360 of 2,701.     Elapsed: 0:05:36\n",
            "Batch 2,400 of 2,701.     Elapsed: 0:05:42\n",
            "Batch 2,440 of 2,701.     Elapsed: 0:05:47\n",
            "Batch 2,480 of 2,701.     Elapsed: 0:05:53\n",
            "Batch 2,520 of 2,701.     Elapsed: 0:05:59\n",
            "Batch 2,560 of 2,701.     Elapsed: 0:06:04\n",
            "Batch 2,600 of 2,701.     Elapsed: 0:06:10\n",
            "Batch 2,640 of 2,701.     Elapsed: 0:06:16\n",
            "Batch 2,680 of 2,701.     Elapsed: 0:06:22\n",
            "   Average training loss: 0.30\n",
            "   Training epoch took: 0:06:24\n",
            "Running Validation...\n",
            "   Accuracy: 0.83\n",
            "   Validation took: 0:00:10\n",
            "======= Epoch 3 / 5 =======\n",
            "Training...\n",
            "Batch    40 of 2,701.     Elapsed: 0:00:06\n",
            "Batch    80 of 2,701.     Elapsed: 0:00:11\n",
            "Batch   120 of 2,701.     Elapsed: 0:00:17\n",
            "Batch   160 of 2,701.     Elapsed: 0:00:23\n",
            "Batch   200 of 2,701.     Elapsed: 0:00:29\n",
            "Batch   240 of 2,701.     Elapsed: 0:00:34\n",
            "Batch   280 of 2,701.     Elapsed: 0:00:40\n",
            "Batch   320 of 2,701.     Elapsed: 0:00:46\n",
            "Batch   360 of 2,701.     Elapsed: 0:00:51\n",
            "Batch   400 of 2,701.     Elapsed: 0:00:57\n",
            "Batch   440 of 2,701.     Elapsed: 0:01:03\n",
            "Batch   480 of 2,701.     Elapsed: 0:01:08\n",
            "Batch   520 of 2,701.     Elapsed: 0:01:14\n",
            "Batch   560 of 2,701.     Elapsed: 0:01:20\n",
            "Batch   600 of 2,701.     Elapsed: 0:01:26\n",
            "Batch   640 of 2,701.     Elapsed: 0:01:31\n",
            "Batch   680 of 2,701.     Elapsed: 0:01:37\n",
            "Batch   720 of 2,701.     Elapsed: 0:01:43\n",
            "Batch   760 of 2,701.     Elapsed: 0:01:48\n",
            "Batch   800 of 2,701.     Elapsed: 0:01:54\n",
            "Batch   840 of 2,701.     Elapsed: 0:02:00\n",
            "Batch   880 of 2,701.     Elapsed: 0:02:05\n",
            "Batch   920 of 2,701.     Elapsed: 0:02:11\n",
            "Batch   960 of 2,701.     Elapsed: 0:02:17\n",
            "Batch 1,000 of 2,701.     Elapsed: 0:02:22\n",
            "Batch 1,040 of 2,701.     Elapsed: 0:02:28\n",
            "Batch 1,080 of 2,701.     Elapsed: 0:02:34\n",
            "Batch 1,120 of 2,701.     Elapsed: 0:02:40\n",
            "Batch 1,160 of 2,701.     Elapsed: 0:02:45\n",
            "Batch 1,200 of 2,701.     Elapsed: 0:02:51\n",
            "Batch 1,240 of 2,701.     Elapsed: 0:02:57\n",
            "Batch 1,280 of 2,701.     Elapsed: 0:03:02\n",
            "Batch 1,320 of 2,701.     Elapsed: 0:03:08\n",
            "Batch 1,360 of 2,701.     Elapsed: 0:03:14\n",
            "Batch 1,400 of 2,701.     Elapsed: 0:03:19\n",
            "Batch 1,440 of 2,701.     Elapsed: 0:03:25\n",
            "Batch 1,480 of 2,701.     Elapsed: 0:03:31\n",
            "Batch 1,520 of 2,701.     Elapsed: 0:03:37\n",
            "Batch 1,560 of 2,701.     Elapsed: 0:03:42\n",
            "Batch 1,600 of 2,701.     Elapsed: 0:03:48\n",
            "Batch 1,640 of 2,701.     Elapsed: 0:03:54\n",
            "Batch 1,680 of 2,701.     Elapsed: 0:03:59\n",
            "Batch 1,720 of 2,701.     Elapsed: 0:04:05\n",
            "Batch 1,760 of 2,701.     Elapsed: 0:04:11\n",
            "Batch 1,800 of 2,701.     Elapsed: 0:04:16\n",
            "Batch 1,840 of 2,701.     Elapsed: 0:04:22\n",
            "Batch 1,880 of 2,701.     Elapsed: 0:04:28\n",
            "Batch 1,920 of 2,701.     Elapsed: 0:04:33\n",
            "Batch 1,960 of 2,701.     Elapsed: 0:04:39\n",
            "Batch 2,000 of 2,701.     Elapsed: 0:04:45\n",
            "Batch 2,040 of 2,701.     Elapsed: 0:04:51\n",
            "Batch 2,080 of 2,701.     Elapsed: 0:04:56\n",
            "Batch 2,120 of 2,701.     Elapsed: 0:05:02\n",
            "Batch 2,160 of 2,701.     Elapsed: 0:05:08\n",
            "Batch 2,200 of 2,701.     Elapsed: 0:05:13\n",
            "Batch 2,240 of 2,701.     Elapsed: 0:05:19\n",
            "Batch 2,280 of 2,701.     Elapsed: 0:05:25\n",
            "Batch 2,320 of 2,701.     Elapsed: 0:05:30\n",
            "Batch 2,360 of 2,701.     Elapsed: 0:05:36\n",
            "Batch 2,400 of 2,701.     Elapsed: 0:05:42\n",
            "Batch 2,440 of 2,701.     Elapsed: 0:05:47\n",
            "Batch 2,480 of 2,701.     Elapsed: 0:05:53\n",
            "Batch 2,520 of 2,701.     Elapsed: 0:05:59\n",
            "Batch 2,560 of 2,701.     Elapsed: 0:06:05\n",
            "Batch 2,600 of 2,701.     Elapsed: 0:06:10\n",
            "Batch 2,640 of 2,701.     Elapsed: 0:06:16\n",
            "Batch 2,680 of 2,701.     Elapsed: 0:06:22\n",
            "   Average training loss: 0.23\n",
            "   Training epoch took: 0:06:25\n",
            "Running Validation...\n",
            "   Accuracy: 0.86\n",
            "   Validation took: 0:00:10\n",
            "======= Epoch 4 / 5 =======\n",
            "Training...\n",
            "Batch    40 of 2,701.     Elapsed: 0:00:06\n",
            "Batch    80 of 2,701.     Elapsed: 0:00:11\n",
            "Batch   120 of 2,701.     Elapsed: 0:00:17\n",
            "Batch   160 of 2,701.     Elapsed: 0:00:23\n",
            "Batch   200 of 2,701.     Elapsed: 0:00:28\n",
            "Batch   240 of 2,701.     Elapsed: 0:00:34\n",
            "Batch   280 of 2,701.     Elapsed: 0:00:40\n",
            "Batch   320 of 2,701.     Elapsed: 0:00:46\n",
            "Batch   360 of 2,701.     Elapsed: 0:00:51\n",
            "Batch   400 of 2,701.     Elapsed: 0:00:57\n",
            "Batch   440 of 2,701.     Elapsed: 0:01:03\n",
            "Batch   480 of 2,701.     Elapsed: 0:01:08\n",
            "Batch   520 of 2,701.     Elapsed: 0:01:14\n",
            "Batch   560 of 2,701.     Elapsed: 0:01:20\n",
            "Batch   600 of 2,701.     Elapsed: 0:01:25\n",
            "Batch   640 of 2,701.     Elapsed: 0:01:31\n",
            "Batch   680 of 2,701.     Elapsed: 0:01:37\n",
            "Batch   720 of 2,701.     Elapsed: 0:01:43\n",
            "Batch   760 of 2,701.     Elapsed: 0:01:48\n",
            "Batch   800 of 2,701.     Elapsed: 0:01:54\n",
            "Batch   840 of 2,701.     Elapsed: 0:02:00\n",
            "Batch   880 of 2,701.     Elapsed: 0:02:05\n",
            "Batch   920 of 2,701.     Elapsed: 0:02:11\n",
            "Batch   960 of 2,701.     Elapsed: 0:02:17\n",
            "Batch 1,000 of 2,701.     Elapsed: 0:02:22\n",
            "Batch 1,040 of 2,701.     Elapsed: 0:02:28\n",
            "Batch 1,080 of 2,701.     Elapsed: 0:02:34\n",
            "Batch 1,120 of 2,701.     Elapsed: 0:02:39\n",
            "Batch 1,160 of 2,701.     Elapsed: 0:02:45\n",
            "Batch 1,200 of 2,701.     Elapsed: 0:02:51\n",
            "Batch 1,240 of 2,701.     Elapsed: 0:02:57\n",
            "Batch 1,280 of 2,701.     Elapsed: 0:03:02\n",
            "Batch 1,320 of 2,701.     Elapsed: 0:03:08\n",
            "Batch 1,360 of 2,701.     Elapsed: 0:03:14\n",
            "Batch 1,400 of 2,701.     Elapsed: 0:03:19\n",
            "Batch 1,440 of 2,701.     Elapsed: 0:03:25\n",
            "Batch 1,480 of 2,701.     Elapsed: 0:03:31\n",
            "Batch 1,520 of 2,701.     Elapsed: 0:03:36\n",
            "Batch 1,560 of 2,701.     Elapsed: 0:03:42\n",
            "Batch 1,600 of 2,701.     Elapsed: 0:03:48\n",
            "Batch 1,640 of 2,701.     Elapsed: 0:03:54\n",
            "Batch 1,680 of 2,701.     Elapsed: 0:03:59\n",
            "Batch 1,720 of 2,701.     Elapsed: 0:04:05\n",
            "Batch 1,760 of 2,701.     Elapsed: 0:04:11\n",
            "Batch 1,800 of 2,701.     Elapsed: 0:04:17\n",
            "Batch 1,840 of 2,701.     Elapsed: 0:04:22\n",
            "Batch 1,880 of 2,701.     Elapsed: 0:04:28\n",
            "Batch 1,920 of 2,701.     Elapsed: 0:04:34\n",
            "Batch 1,960 of 2,701.     Elapsed: 0:04:39\n",
            "Batch 2,000 of 2,701.     Elapsed: 0:04:45\n",
            "Batch 2,040 of 2,701.     Elapsed: 0:04:51\n",
            "Batch 2,080 of 2,701.     Elapsed: 0:04:57\n",
            "Batch 2,120 of 2,701.     Elapsed: 0:05:02\n",
            "Batch 2,160 of 2,701.     Elapsed: 0:05:08\n",
            "Batch 2,200 of 2,701.     Elapsed: 0:05:14\n",
            "Batch 2,240 of 2,701.     Elapsed: 0:05:19\n",
            "Batch 2,280 of 2,701.     Elapsed: 0:05:25\n",
            "Batch 2,320 of 2,701.     Elapsed: 0:05:31\n",
            "Batch 2,360 of 2,701.     Elapsed: 0:05:36\n",
            "Batch 2,400 of 2,701.     Elapsed: 0:05:42\n",
            "Batch 2,440 of 2,701.     Elapsed: 0:05:48\n",
            "Batch 2,480 of 2,701.     Elapsed: 0:05:53\n",
            "Batch 2,520 of 2,701.     Elapsed: 0:05:59\n",
            "Batch 2,560 of 2,701.     Elapsed: 0:06:05\n",
            "Batch 2,600 of 2,701.     Elapsed: 0:06:11\n",
            "Batch 2,640 of 2,701.     Elapsed: 0:06:16\n",
            "Batch 2,680 of 2,701.     Elapsed: 0:06:22\n",
            "   Average training loss: 0.17\n",
            "   Training epoch took: 0:06:25\n",
            "Running Validation...\n",
            "   Accuracy: 0.86\n",
            "   Validation took: 0:00:10\n",
            "======= Epoch 5 / 5 =======\n",
            "Training...\n",
            "Batch    40 of 2,701.     Elapsed: 0:00:06\n",
            "Batch    80 of 2,701.     Elapsed: 0:00:11\n",
            "Batch   120 of 2,701.     Elapsed: 0:00:17\n",
            "Batch   160 of 2,701.     Elapsed: 0:00:23\n",
            "Batch   200 of 2,701.     Elapsed: 0:00:28\n",
            "Batch   240 of 2,701.     Elapsed: 0:00:34\n",
            "Batch   280 of 2,701.     Elapsed: 0:00:40\n",
            "Batch   320 of 2,701.     Elapsed: 0:00:46\n",
            "Batch   360 of 2,701.     Elapsed: 0:00:51\n",
            "Batch   400 of 2,701.     Elapsed: 0:00:57\n",
            "Batch   440 of 2,701.     Elapsed: 0:01:03\n",
            "Batch   480 of 2,701.     Elapsed: 0:01:08\n",
            "Batch   520 of 2,701.     Elapsed: 0:01:14\n",
            "Batch   560 of 2,701.     Elapsed: 0:01:20\n",
            "Batch   600 of 2,701.     Elapsed: 0:01:25\n",
            "Batch   640 of 2,701.     Elapsed: 0:01:31\n",
            "Batch   680 of 2,701.     Elapsed: 0:01:37\n",
            "Batch   720 of 2,701.     Elapsed: 0:01:42\n",
            "Batch   760 of 2,701.     Elapsed: 0:01:48\n",
            "Batch   800 of 2,701.     Elapsed: 0:01:54\n",
            "Batch   840 of 2,701.     Elapsed: 0:02:00\n",
            "Batch   880 of 2,701.     Elapsed: 0:02:05\n",
            "Batch   920 of 2,701.     Elapsed: 0:02:11\n",
            "Batch   960 of 2,701.     Elapsed: 0:02:17\n",
            "Batch 1,000 of 2,701.     Elapsed: 0:02:22\n",
            "Batch 1,040 of 2,701.     Elapsed: 0:02:28\n",
            "Batch 1,080 of 2,701.     Elapsed: 0:02:34\n",
            "Batch 1,120 of 2,701.     Elapsed: 0:02:39\n",
            "Batch 1,160 of 2,701.     Elapsed: 0:02:45\n",
            "Batch 1,200 of 2,701.     Elapsed: 0:02:51\n",
            "Batch 1,240 of 2,701.     Elapsed: 0:02:57\n",
            "Batch 1,280 of 2,701.     Elapsed: 0:03:02\n",
            "Batch 1,320 of 2,701.     Elapsed: 0:03:08\n",
            "Batch 1,360 of 2,701.     Elapsed: 0:03:14\n",
            "Batch 1,400 of 2,701.     Elapsed: 0:03:19\n",
            "Batch 1,440 of 2,701.     Elapsed: 0:03:25\n",
            "Batch 1,480 of 2,701.     Elapsed: 0:03:31\n",
            "Batch 1,520 of 2,701.     Elapsed: 0:03:36\n",
            "Batch 1,560 of 2,701.     Elapsed: 0:03:42\n",
            "Batch 1,600 of 2,701.     Elapsed: 0:03:48\n",
            "Batch 1,640 of 2,701.     Elapsed: 0:03:53\n",
            "Batch 1,680 of 2,701.     Elapsed: 0:03:59\n",
            "Batch 1,720 of 2,701.     Elapsed: 0:04:05\n",
            "Batch 1,760 of 2,701.     Elapsed: 0:04:11\n",
            "Batch 1,800 of 2,701.     Elapsed: 0:04:16\n",
            "Batch 1,840 of 2,701.     Elapsed: 0:04:22\n",
            "Batch 1,880 of 2,701.     Elapsed: 0:04:28\n",
            "Batch 1,920 of 2,701.     Elapsed: 0:04:33\n",
            "Batch 1,960 of 2,701.     Elapsed: 0:04:39\n",
            "Batch 2,000 of 2,701.     Elapsed: 0:04:45\n",
            "Batch 2,040 of 2,701.     Elapsed: 0:04:50\n",
            "Batch 2,080 of 2,701.     Elapsed: 0:04:56\n",
            "Batch 2,120 of 2,701.     Elapsed: 0:05:02\n",
            "Batch 2,160 of 2,701.     Elapsed: 0:05:08\n",
            "Batch 2,200 of 2,701.     Elapsed: 0:05:13\n",
            "Batch 2,240 of 2,701.     Elapsed: 0:05:19\n",
            "Batch 2,280 of 2,701.     Elapsed: 0:05:25\n",
            "Batch 2,320 of 2,701.     Elapsed: 0:05:30\n",
            "Batch 2,360 of 2,701.     Elapsed: 0:05:36\n",
            "Batch 2,400 of 2,701.     Elapsed: 0:05:42\n",
            "Batch 2,440 of 2,701.     Elapsed: 0:05:47\n",
            "Batch 2,480 of 2,701.     Elapsed: 0:05:53\n",
            "Batch 2,520 of 2,701.     Elapsed: 0:05:59\n",
            "Batch 2,560 of 2,701.     Elapsed: 0:06:04\n",
            "Batch 2,600 of 2,701.     Elapsed: 0:06:10\n",
            "Batch 2,640 of 2,701.     Elapsed: 0:06:16\n",
            "Batch 2,680 of 2,701.     Elapsed: 0:06:22\n",
            "   Average training loss: 0.12\n",
            "   Training epoch took: 0:06:25\n",
            "Running Validation...\n",
            "   Accuracy: 0.85\n",
            "   Validation took: 0:00:10\n",
            "Training complete!\n"
          ]
        }
      ],
      "source": [
        "import random\n",
        "\n",
        "seed_val = 42\n",
        "\n",
        "random.seed(seed_val)\n",
        "np.random.seed(seed_val)\n",
        "torch.manual_seed(seed_val)\n",
        "torch.cuda.manual_seed_all(seed_val)\n",
        "\n",
        "loss_values = []\n",
        "\n",
        "for epoch_i in range(0, epochs):\n",
        "\n",
        "  # ===================================\n",
        "  #              Training\n",
        "  # ===================================\n",
        "\n",
        "  print(\"======= Epoch {:} / {:} =======\".format(epoch_i+1, epochs))\n",
        "  print(\"Training...\")\n",
        "\n",
        "  t0 = time.time()\n",
        "\n",
        "  total_loss = 0\n",
        "\n",
        "  model.train()\n",
        "\n",
        "  # For each batch of training data\n",
        "  for step, batch in enumerate(train_dataloader):\n",
        "    \n",
        "    # Progress update every 40 batches\n",
        "    if step % 40 == 0 and not step == 0:\n",
        "      elapsed = format_time(time.time() - t0)\n",
        "\n",
        "      print(\"Batch {:>5,} of {:>5,}.     Elapsed: {:}\".format(step, len(train_dataloader), elapsed))\n",
        "    \n",
        "    b_input_ids = batch[0].to(device)\n",
        "    b_input_mask = batch[1].to(device)\n",
        "    b_labels = batch[2].to(device)\n",
        "\n",
        "    model.zero_grad()\n",
        "\n",
        "    outputs = model(b_input_ids,\n",
        "                    token_type_ids=None,\n",
        "                    attention_mask=b_input_mask,\n",
        "                    labels=b_labels)\n",
        "    \n",
        "    loss = outputs[0]\n",
        "\n",
        "    total_loss += loss.item()\n",
        "\n",
        "    loss.backward()\n",
        "\n",
        "    torch.nn.utils.clip_grad_norm_(model.parameters(), 1.0)\n",
        "\n",
        "    optimizer.step()\n",
        "\n",
        "    scheduler.step()\n",
        "\n",
        "  avg_train_loss = total_loss / len(train_dataloader)\n",
        "\n",
        "  loss_values.append(avg_train_loss)\n",
        "\n",
        "  print(\"   Average training loss: {0:.2f}\".format(avg_train_loss))\n",
        "  print(\"   Training epoch took: {:}\".format(format_time(time.time() - t0)))\n",
        "\n",
        "  # ===================================\n",
        "  #             Validation\n",
        "  # ===================================\n",
        "\n",
        "  print(\"Running Validation...\")\n",
        "\n",
        "  t0 = time.time()\n",
        "\n",
        "  model.eval()\n",
        "\n",
        "  eval_loss, eval_accuracy = 0, 0\n",
        "  nb_eval_steps, nb_eval_examples = 0, 0\n",
        "\n",
        "  for batch in validation_dataloader:\n",
        "\n",
        "    batch = tuple(t.to(device) for t in batch)\n",
        "\n",
        "    b_input_ids, b_input_mask, b_labels = batch\n",
        "\n",
        "    with torch.no_grad():\n",
        "      outputs = model(b_input_ids,\n",
        "                      token_type_ids=None,\n",
        "                      attention_mask=b_input_mask)\n",
        "    \n",
        "    logits = outputs[0]\n",
        "    logits = logits.detach().cpu().numpy()\n",
        "    label_ids = b_labels.to('cpu').numpy()\n",
        "\n",
        "    tmp_eval_accuracy = flat_accuracy(logits, label_ids)\n",
        "\n",
        "    eval_accuracy += tmp_eval_accuracy\n",
        "\n",
        "    nb_eval_steps += 1\n",
        "  \n",
        "  print(\"   Accuracy: {0:.2f}\".format(eval_accuracy/nb_eval_steps))\n",
        "  print(\"   Validation took: {:}\".format(format_time(time.time() - t0)))\n",
        "\n",
        "print(\"Training complete!\")"
      ]
    },
    {
      "cell_type": "code",
      "execution_count": 39,
      "metadata": {
        "colab": {
          "base_uri": "https://localhost:8080/",
          "height": 427
        },
        "id": "o24zXug4IoSi",
        "outputId": "f2e68c00-cc03-477d-cf25-507c24af1ca5"
      },
      "outputs": [
        {
          "data": {
            "image/png": "[encoded data removed]",
            "text/plain": [
              "<Figure size 864x432 with 1 Axes>"
            ]
          },
          "metadata": {},
          "output_type": "display_data"
        }
      ],
      "source": [
        "import matplotlib.pyplot as plt\n",
        "%matplotlib inline\n",
        "\n",
        "import seaborn as sns\n",
        "\n",
        "sns.set(style='darkgrid')\n",
        "\n",
        "sns.set(font_scale=1.5)\n",
        "plt.rcParams[\"figure.figsize\"] = (12,6)\n",
        "\n",
        "plt.plot(loss_values, 'b-o')\n",
        "\n",
        "plt.title(\"Training loss\")\n",
        "plt.xlabel(\"Epoch\")\n",
        "plt.ylabel(\"Loss\")\n",
        "\n",
        "plt.show()"
      ]
    },
    {
      "cell_type": "markdown",
      "metadata": {
        "id": "jtKxYnRNgRUc"
      },
      "source": [
        "## **Predict dan Evaluate**"
      ]
    },
    {
      "cell_type": "code",
      "execution_count": 40,
      "metadata": {
        "colab": {
          "base_uri": "https://localhost:8080/"
        },
        "id": "gqfEXs3cNQLm",
        "outputId": "f670198d-930f-42c4-a49c-adba12c13b5b"
      },
      "outputs": [
        {
          "name": "stdout",
          "output_type": "stream",
          "text": [
            "Predicting labels for 2,800 test sentences\n",
            " DONE.\n"
          ]
        }
      ],
      "source": [
        "print(\"Predicting labels for {:,} test sentences\".format(len(test_input)))\n",
        "\n",
        "model.eval()\n",
        "\n",
        "prediction, true_labels = [], []\n",
        "\n",
        "for batch in test_dataloader:\n",
        "  batch = tuple(t.to(device) for t in batch)\n",
        "\n",
        "  b_input_ids, b_input_mask, b_labels = batch\n",
        "\n",
        "  with torch.no_grad():\n",
        "    outputs = model(b_input_ids,\n",
        "                    token_type_ids=None,\n",
        "                    attention_mask=b_input_mask)\n",
        "    \n",
        "  logits = outputs[0]\n",
        "\n",
        "  logits = logits.detach().cpu().numpy()\n",
        "  label_ids = b_labels.to('cpu').numpy()\n",
        "\n",
        "  prediction.append(logits)\n",
        "  true_labels.append(label_ids)\n",
        "\n",
        "print(\" DONE.\")"
      ]
    },
    {
      "cell_type": "code",
      "execution_count": 41,
      "metadata": {
        "colab": {
          "base_uri": "https://localhost:8080/"
        },
        "id": "alDDVf_ywJiA",
        "outputId": "6be2526f-5c66-4b55-cbd8-84b01328fbc9"
      },
      "outputs": [
        {
          "name": "stdout",
          "output_type": "stream",
          "text": [
            "MCC: 0.633\n"
          ]
        }
      ],
      "source": [
        "from sklearn.metrics import matthews_corrcoef\n",
        "\n",
        "flat_prediction = [item for sublist in prediction for item in sublist]\n",
        "flat_prediction = np.argmax(flat_prediction, axis=1).flatten()\n",
        "\n",
        "flat_true_labels = [item for sublist in true_labels for item in sublist]\n",
        "\n",
        "mcc = matthews_corrcoef(flat_true_labels, flat_prediction)\n",
        "\n",
        "print(\"MCC: %.3f\" %mcc)"
      ]
    },
    {
      "cell_type": "code",
      "execution_count": 44,
      "metadata": {
        "colab": {
          "base_uri": "https://localhost:8080/"
        },
        "id": "8hSGk90kw8hQ",
        "outputId": "e98234cc-a639-450f-910f-6b5126fc16b1"
      },
      "outputs": [
        {
          "name": "stdout",
          "output_type": "stream",
          "text": [
            "ACC: 0.847\n"
          ]
        }
      ],
      "source": [
        "from sklearn.metrics import accuracy_score\n",
        "\n",
        "acc = accuracy_score(flat_true_labels, flat_prediction)\n",
        "\n",
        "print(\"ACC: %.3f\" %acc)\n"
      ]
    },
    {
      "cell_type": "code",
      "execution_count": 47,
      "metadata": {
        "colab": {
          "base_uri": "https://localhost:8080/"
        },
        "id": "fsbQiZjDWAIK",
        "outputId": "b212022c-b5f7-49aa-e538-db86f9fdab15"
      },
      "outputs": [
        {
          "name": "stdout",
          "output_type": "stream",
          "text": [
            "RECALL: 0.820\n"
          ]
        }
      ],
      "source": [
        "from sklearn.metrics import recall_score\n",
        "\n",
        "recall = recall_score(flat_true_labels, flat_prediction)\n",
        "\n",
        "print(\"RECALL: %.3f\" %recall)\n"
      ]
    }
  ],
  "metadata": {
    "accelerator": "GPU",
    "colab": {
      "collapsed_sections": [],
      "provenance": [],
      "toc_visible": true
    },
    "kernelspec": {
      "display_name": "Python 3.10.6 64-bit",
      "language": "python",
      "name": "python3"
    },
    "language_info": {
      "name": "python",
      "version": "3.10.6"
    },
    "vscode": {
      "interpreter": {
        "hash": "b0fa6594d8f4cbf19f97940f81e996739fb7646882a419484c72d19e05852a7e"
      }
    }
  },
  "nbformat": 4,
  "nbformat_minor": 0
}
